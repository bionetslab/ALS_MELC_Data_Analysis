{
 "cells": [
  {
   "cell_type": "code",
   "execution_count": 1,
   "id": "bb251feb-b152-43f5-a520-816dbf8ed6a8",
   "metadata": {},
   "outputs": [],
   "source": [
    "%load_ext autoreload\n",
    "%autoreload 2\n",
    "\n",
    "import anndata\n",
    "import matplotlib.pyplot as plt\n",
    "import seaborn as sns\n",
    "import logging\n",
    "import numpy as np\n",
    "import pandas as pd\n",
    "import scipy.stats\n",
    "import scanpy as sc"
   ]
  },
  {
   "cell_type": "code",
   "execution_count": 2,
   "id": "87718046-306d-4f0f-ad30-4f617d452271",
   "metadata": {},
   "outputs": [
    {
     "name": "stderr",
     "output_type": "stream",
     "text": [
      "2023-07-14 17:37:27.109004: I tensorflow/core/util/port.cc:110] oneDNN custom operations are on. You may see slightly different numerical results due to floating-point round-off errors from different computation orders. To turn them off, set the environment variable `TF_ENABLE_ONEDNN_OPTS=0`.\n",
      "2023-07-14 17:37:27.110079: I tensorflow/tsl/cuda/cudart_stub.cc:28] Could not find cuda drivers on your machine, GPU will not be used.\n",
      "2023-07-14 17:37:27.133389: I tensorflow/tsl/cuda/cudart_stub.cc:28] Could not find cuda drivers on your machine, GPU will not be used.\n",
      "2023-07-14 17:37:27.133765: I tensorflow/core/platform/cpu_feature_guard.cc:182] This TensorFlow binary is optimized to use available CPU instructions in performance-critical operations.\n",
      "To enable the following instructions: AVX2 AVX512F AVX512_VNNI FMA, in other operations, rebuild TensorFlow with the appropriate compiler flags.\n",
      "2023-07-14 17:37:27.525222: W tensorflow/compiler/tf2tensorrt/utils/py_utils.cc:38] TF-TRT Warning: Could not find TensorRT\n"
     ]
    },
    {
     "name": "stdout",
     "output_type": "stream",
     "text": [
      "batchglm version v0.7.4\n",
      "diffpy version v0.7.4\n"
     ]
    }
   ],
   "source": [
    "import batchglm.api as glm\n",
    "import diffxpy.api as de\n",
    "\n",
    "print(\"batchglm version \"+glm.__version__)\n",
    "print(\"diffpy version \"+de.__version__)"
   ]
  },
  {
   "cell_type": "code",
   "execution_count": 13,
   "id": "433175e2-dfd2-4bca-a473-18b6c6e426e6",
   "metadata": {},
   "outputs": [
    {
     "name": "stderr",
     "output_type": "stream",
     "text": [
      "/data/je30bery/.local/lib/python3.9/site-packages/anndata/_core/anndata.py:117: ImplicitModificationWarning: Transforming to str index.\n",
      "  warnings.warn(\"Transforming to str index.\", ImplicitModificationWarning)\n"
     ]
    }
   ],
   "source": [
    "from batchglm.api.models.tf1.glm_nb import Simulator\n",
    "\n",
    "sim = Simulator(num_observations=2000, num_features=130)\n",
    "sim.generate_sample_description(num_batches=4, num_conditions=0)\n",
    "sim.generate_params()\n",
    "sim.generate_data()\n",
    "adata = sc.AnnData(X=np.asarray(sim.x), obs=sim.sample_description)"
   ]
  },
  {
   "cell_type": "code",
   "execution_count": 14,
   "id": "f34ced78-8557-4a28-8383-e477eab08183",
   "metadata": {},
   "outputs": [
    {
     "data": {
      "text/plain": [
       "AnnData object with n_obs × n_vars = 2000 × 130\n",
       "    obs: 'condition', 'batch'"
      ]
     },
     "execution_count": 14,
     "metadata": {},
     "output_type": "execute_result"
    }
   ],
   "source": [
    "adata"
   ]
  },
  {
   "cell_type": "code",
   "execution_count": 15,
   "id": "0fd0bd5a-6a54-482f-92fe-a44601a89fa1",
   "metadata": {},
   "outputs": [
    {
     "data": {
      "text/html": [
       "<div>\n",
       "<style scoped>\n",
       "    .dataframe tbody tr th:only-of-type {\n",
       "        vertical-align: middle;\n",
       "    }\n",
       "\n",
       "    .dataframe tbody tr th {\n",
       "        vertical-align: top;\n",
       "    }\n",
       "\n",
       "    .dataframe thead th {\n",
       "        text-align: right;\n",
       "    }\n",
       "</style>\n",
       "<table border=\"1\" class=\"dataframe\">\n",
       "  <thead>\n",
       "    <tr style=\"text-align: right;\">\n",
       "      <th></th>\n",
       "      <th>condition</th>\n",
       "      <th>batch</th>\n",
       "    </tr>\n",
       "  </thead>\n",
       "  <tbody>\n",
       "    <tr>\n",
       "      <th>0</th>\n",
       "      <td>0</td>\n",
       "      <td>0</td>\n",
       "    </tr>\n",
       "    <tr>\n",
       "      <th>1</th>\n",
       "      <td>0</td>\n",
       "      <td>0</td>\n",
       "    </tr>\n",
       "    <tr>\n",
       "      <th>2</th>\n",
       "      <td>0</td>\n",
       "      <td>0</td>\n",
       "    </tr>\n",
       "    <tr>\n",
       "      <th>3</th>\n",
       "      <td>0</td>\n",
       "      <td>0</td>\n",
       "    </tr>\n",
       "    <tr>\n",
       "      <th>4</th>\n",
       "      <td>0</td>\n",
       "      <td>0</td>\n",
       "    </tr>\n",
       "    <tr>\n",
       "      <th>...</th>\n",
       "      <td>...</td>\n",
       "      <td>...</td>\n",
       "    </tr>\n",
       "    <tr>\n",
       "      <th>1995</th>\n",
       "      <td>0</td>\n",
       "      <td>3</td>\n",
       "    </tr>\n",
       "    <tr>\n",
       "      <th>1996</th>\n",
       "      <td>0</td>\n",
       "      <td>3</td>\n",
       "    </tr>\n",
       "    <tr>\n",
       "      <th>1997</th>\n",
       "      <td>0</td>\n",
       "      <td>3</td>\n",
       "    </tr>\n",
       "    <tr>\n",
       "      <th>1998</th>\n",
       "      <td>0</td>\n",
       "      <td>3</td>\n",
       "    </tr>\n",
       "    <tr>\n",
       "      <th>1999</th>\n",
       "      <td>0</td>\n",
       "      <td>3</td>\n",
       "    </tr>\n",
       "  </tbody>\n",
       "</table>\n",
       "<p>2000 rows × 2 columns</p>\n",
       "</div>"
      ],
      "text/plain": [
       "     condition batch\n",
       "0            0     0\n",
       "1            0     0\n",
       "2            0     0\n",
       "3            0     0\n",
       "4            0     0\n",
       "...        ...   ...\n",
       "1995         0     3\n",
       "1996         0     3\n",
       "1997         0     3\n",
       "1998         0     3\n",
       "1999         0     3\n",
       "\n",
       "[2000 rows x 2 columns]"
      ]
     },
     "execution_count": 15,
     "metadata": {},
     "output_type": "execute_result"
    }
   ],
   "source": [
    "sim.sample_description"
   ]
  },
  {
   "cell_type": "code",
   "execution_count": 16,
   "id": "952ab67d-6bd1-4a86-afb3-737257e1fb36",
   "metadata": {},
   "outputs": [
    {
     "name": "stdout",
     "output_type": "stream",
     "text": [
      "training location model: False\n",
      "training scale model: True\n",
      "iter   0: ll=976797.331377\n",
      "iter   1: ll=976797.331377, converged: 0.00% (loc: 100.00%, scale update: False), in 0.00sec\n",
      "iter   2: ll=958595.073869, converged: 0.00% (loc: 0.00%, scale update: True), in 0.31sec\n",
      "iter   3: ll=958595.073869, converged: 0.00% (loc: 100.00%, scale update: False), in 0.00sec\n",
      "iter   4: ll=958595.073868, converged: 100.00% (loc: 100.00%, scale update: True), in 0.32sec\n",
      "training location model: False\n",
      "training scale model: True\n",
      "iter   0: ll=973259.082517\n",
      "iter   1: ll=973259.082517, converged: 0.00% (loc: 100.00%, scale update: False), in 0.00sec\n",
      "iter   2: ll=956435.987723, converged: 0.00% (loc: 0.00%, scale update: True), in 0.34sec\n",
      "iter   3: ll=956435.987723, converged: 0.00% (loc: 100.00%, scale update: False), in 0.00sec\n",
      "iter   4: ll=956435.987723, converged: 100.00% (loc: 100.00%, scale update: True), in 0.35sec\n",
      "training location model: False\n",
      "training scale model: True\n",
      "iter   0: ll=983837.101024\n",
      "iter   1: ll=983837.101024, converged: 0.00% (loc: 100.00%, scale update: False), in 0.00sec\n",
      "iter   2: ll=963275.945066, converged: 0.00% (loc: 0.00%, scale update: True), in 0.36sec\n",
      "iter   3: ll=963275.945066, converged: 0.00% (loc: 100.00%, scale update: False), in 0.00sec\n",
      "iter   4: ll=963275.945066, converged: 100.00% (loc: 100.00%, scale update: True), in 0.33sec\n",
      "training location model: False\n",
      "training scale model: True\n",
      "iter   0: ll=1002261.443059\n",
      "iter   1: ll=1002261.443059, converged: 0.00% (loc: 100.00%, scale update: False), in 0.00sec\n",
      "iter   2: ll=987411.813395, converged: 0.00% (loc: 0.00%, scale update: True), in 0.35sec\n",
      "iter   3: ll=987411.813395, converged: 0.00% (loc: 100.00%, scale update: False), in 0.00sec\n",
      "iter   4: ll=987411.813395, converged: 100.00% (loc: 100.00%, scale update: True), in 0.38sec\n",
      "training location model: False\n",
      "training scale model: True\n",
      "iter   0: ll=1014249.838392\n",
      "iter   1: ll=1014249.838392, converged: 0.00% (loc: 100.00%, scale update: False), in 0.00sec\n",
      "iter   2: ll=996586.654487, converged: 0.00% (loc: 0.00%, scale update: True), in 0.35sec\n",
      "iter   3: ll=996586.654487, converged: 0.00% (loc: 100.00%, scale update: False), in 0.00sec\n",
      "iter   4: ll=996586.654487, converged: 100.00% (loc: 100.00%, scale update: True), in 0.37sec\n",
      "training location model: False\n",
      "training scale model: True\n",
      "iter   0: ll=1008773.845456\n",
      "iter   1: ll=1008773.845456, converged: 0.00% (loc: 100.00%, scale update: False), in 0.00sec\n",
      "iter   2: ll=993897.989352, converged: 0.00% (loc: 0.00%, scale update: True), in 0.35sec\n",
      "iter   3: ll=993897.989352, converged: 0.00% (loc: 100.00%, scale update: False), in 0.00sec\n",
      "iter   4: ll=993897.989352, converged: 100.00% (loc: 100.00%, scale update: True), in 0.35sec\n"
     ]
    }
   ],
   "source": [
    "test = de.test.pairwise(\n",
    "    data=adata,\n",
    "    grouping=\"batch\",\n",
    "    test=\"wald\",\n",
    "    lazy=False,\n",
    "    noise_model=\"nb\"\n",
    ")"
   ]
  },
  {
   "cell_type": "code",
   "execution_count": null,
   "id": "136d45c3-47a0-4cce-a88e-5e87a21519c9",
   "metadata": {},
   "outputs": [],
   "source": []
  }
 ],
 "metadata": {
  "kernelspec": {
   "display_name": "Python 3 (ipykernel)",
   "language": "python",
   "name": "python3"
  },
  "language_info": {
   "codemirror_mode": {
    "name": "ipython",
    "version": 3
   },
   "file_extension": ".py",
   "mimetype": "text/x-python",
   "name": "python",
   "nbconvert_exporter": "python",
   "pygments_lexer": "ipython3",
   "version": "3.9.16"
  }
 },
 "nbformat": 4,
 "nbformat_minor": 5
}
