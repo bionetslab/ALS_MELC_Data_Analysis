{
 "cells": [
  {
   "cell_type": "code",
   "execution_count": 1,
   "id": "0f692369-f9a0-4ecf-b131-12fbd3169a1a",
   "metadata": {},
   "outputs": [],
   "source": [
    "%load_ext autoreload\n",
    "%autoreload 2"
   ]
  },
  {
   "cell_type": "code",
   "execution_count": 10,
   "id": "49cbd487-0992-4baf-b48b-c37bdd9d0fec",
   "metadata": {},
   "outputs": [
    {
     "ename": "ModuleNotFoundError",
     "evalue": "No module named 'squidpy'",
     "output_type": "error",
     "traceback": [
      "\u001b[0;31m---------------------------------------------------------------------------\u001b[0m",
      "\u001b[0;31mModuleNotFoundError\u001b[0m                       Traceback (most recent call last)",
      "Cell \u001b[0;32mIn[10], line 1\u001b[0m\n\u001b[0;32m----> 1\u001b[0m \u001b[38;5;28;01mimport\u001b[39;00m \u001b[38;5;21;01msquidpy\u001b[39;00m \u001b[38;5;28;01mas\u001b[39;00m \u001b[38;5;21;01msq\u001b[39;00m\n",
      "\u001b[0;31mModuleNotFoundError\u001b[0m: No module named 'squidpy'"
     ]
    }
   ],
   "source": [
    "import squidpy as sq"
   ]
  },
  {
   "cell_type": "code",
   "execution_count": 2,
   "id": "27bc0454-7662-4431-8091-77499dd2ed75",
   "metadata": {
    "tags": []
   },
   "outputs": [
    {
     "name": "stderr",
     "output_type": "stream",
     "text": [
      "2023-07-17 11:24:19.491866: I tensorflow/core/util/port.cc:110] oneDNN custom operations are on. You may see slightly different numerical results due to floating-point round-off errors from different computation orders. To turn them off, set the environment variable `TF_ENABLE_ONEDNN_OPTS=0`.\n",
      "2023-07-17 11:24:19.492939: I tensorflow/tsl/cuda/cudart_stub.cc:28] Could not find cuda drivers on your machine, GPU will not be used.\n",
      "2023-07-17 11:24:19.517140: I tensorflow/tsl/cuda/cudart_stub.cc:28] Could not find cuda drivers on your machine, GPU will not be used.\n",
      "2023-07-17 11:24:19.517759: I tensorflow/core/platform/cpu_feature_guard.cc:182] This TensorFlow binary is optimized to use available CPU instructions in performance-critical operations.\n",
      "To enable the following instructions: AVX2 AVX512F AVX512_VNNI FMA, in other operations, rebuild TensorFlow with the appropriate compiler flags.\n",
      "2023-07-17 11:24:19.926249: W tensorflow/compiler/tf2tensorrt/utils/py_utils.cc:38] TF-TRT Warning: Could not find TensorRT\n"
     ]
    }
   ],
   "source": [
    "import matplotlib.pyplot as plt\n",
    "import json\n",
    "import os\n",
    "import cv2\n",
    "import time\n",
    "import numpy as np\n",
    "from csbdeep.utils import Path, normalize\n",
    "from segmentation import MELC_Segmentation\n",
    "import pandas as pd\n",
    "import anndata as ad"
   ]
  },
  {
   "cell_type": "code",
   "execution_count": 3,
   "id": "0ffbd4d5-819b-466e-923b-1dcb9bb6f07c",
   "metadata": {},
   "outputs": [],
   "source": [
    "data = \"ALS\"\n",
    "\n",
    "f = open('/data_slow/je30bery/spatial_proteomics/config.json')\n",
    "config = json.load(f)\n",
    "data_path = \"/data_slow/je30bery/data/ALS\"  #config[data]\n",
    "seg = MELC_Segmentation(data_path, membrane_marker=\"cd45\") \n",
    "# membrane_marker: str/None \n",
    "# radius: multiple of cell radius"
   ]
  },
  {
   "cell_type": "code",
   "execution_count": 4,
   "id": "36bc8871-c02d-48fa-923c-2f28a831bede",
   "metadata": {},
   "outputs": [
    {
     "data": {
      "text/plain": [
       "['ALS01 - 21297',\n",
       " 'ALS01 - 21298',\n",
       " 'ALS01 - 21299',\n",
       " 'ALS01 - 21300',\n",
       " 'ALS02 - 21301',\n",
       " 'ALS02 - 21302',\n",
       " 'ALS02 - 21303',\n",
       " 'ALS02 - 21304',\n",
       " 'ALS03 - 21305',\n",
       " 'ALS03 - 21306',\n",
       " 'ALS03 - 21307',\n",
       " 'ALS03 - 21308',\n",
       " 'ALS04 - 21370',\n",
       " 'ALS04 - 21371',\n",
       " 'ALS04 - 21372',\n",
       " 'ALS04 - 21373',\n",
       " 'Healthy01 - 21315',\n",
       " 'Healthy01 - 21316',\n",
       " 'Healthy01 - 21317',\n",
       " 'Healthy01 - 21318',\n",
       " 'Healthy02 - 21319',\n",
       " 'Healthy02 - 21320',\n",
       " 'Healthy02 - 21321',\n",
       " 'Healthy02 - 21322',\n",
       " 'Healthy03 - 21323',\n",
       " 'Healthy03 - 21324',\n",
       " 'Healthy03 - 21325',\n",
       " 'Healthy03 - 21326']"
      ]
     },
     "execution_count": 4,
     "metadata": {},
     "output_type": "execute_result"
    }
   ],
   "source": [
    "seg.fields_of_view"
   ]
  },
  {
   "cell_type": "code",
   "execution_count": 9,
   "id": "097f4a6e-48a3-46ad-b5e0-339b8cc051c8",
   "metadata": {},
   "outputs": [],
   "source": [
    "def get_expression(adaptive, where_dict):\n",
    "    expression = np.zeros_like(adaptive)\n",
    "    expression_dict = dict()\n",
    "    for n in where_dict:\n",
    "        if n == 0:\n",
    "            continue\n",
    "        \n",
    "        segment = where_dict[n]\n",
    "        exp = np.sum(adaptive[segment[0], segment[1]])/len(segment[0])\n",
    "        expression[segment[0], segment[1]] = exp\n",
    "        #expression_dict[n] = exp / 255\n",
    "    return expression"
   ]
  },
  {
   "cell_type": "code",
   "execution_count": 5,
   "id": "18b65bc0-06b8-4e8f-9c5d-23c9119a9390",
   "metadata": {},
   "outputs": [
    {
     "name": "stdout",
     "output_type": "stream",
     "text": [
      "Found model '2D_versatile_fluo' for 'StarDist2D'.\n",
      "Loading network weights from 'weights_best.h5'.\n",
      "Loading thresholds from 'thresholds.json'.\n",
      "Using default values: prob_thresh=0.479071, nms_thresh=0.3.\n"
     ]
    },
    {
     "name": "stderr",
     "output_type": "stream",
     "text": [
      "2023-07-17 11:24:21.136573: E tensorflow/compiler/xla/stream_executor/cuda/cuda_driver.cc:268] failed call to cuInit: CUDA_ERROR_SYSTEM_DRIVER_MISMATCH: system has unsupported display driver / cuda driver combination\n",
      "2023-07-17 11:24:21.136596: I tensorflow/compiler/xla/stream_executor/cuda/cuda_diagnostics.cc:168] retrieving CUDA diagnostic information for host: bionets-scott.aibe.uni-erlangen.de\n",
      "2023-07-17 11:24:21.136599: I tensorflow/compiler/xla/stream_executor/cuda/cuda_diagnostics.cc:175] hostname: bionets-scott.aibe.uni-erlangen.de\n",
      "2023-07-17 11:24:21.136665: I tensorflow/compiler/xla/stream_executor/cuda/cuda_diagnostics.cc:199] libcuda reported version is: 535.54.3\n",
      "2023-07-17 11:24:21.136677: I tensorflow/compiler/xla/stream_executor/cuda/cuda_diagnostics.cc:203] kernel reported version is: 530.41.3\n",
      "2023-07-17 11:24:21.136680: E tensorflow/compiler/xla/stream_executor/cuda/cuda_diagnostics.cc:312] kernel version 530.41.3 does not match DSO version 535.54.3 -- cannot find working devices in this configuration\n"
     ]
    },
    {
     "name": "stdout",
     "output_type": "stream",
     "text": [
      "1/1 [==============================] - 1s 763ms/step\n",
      "1/1 [==============================] - 1s 632ms/step\n"
     ]
    },
    {
     "name": "stderr",
     "output_type": "stream",
     "text": [
      "100%|███████████████████████████████████████████████████████████████████████████████████████████████████████████████████████████████████| 5891/5891 [00:57<00:00, 103.13it/s]\n",
      "100%|████████████████████████████████████████████████████████████████████████████████████████████████████████████████████████████████████| 4368/4368 [00:44<00:00, 99.07it/s]\n"
     ]
    }
   ],
   "source": [
    "for fov in seg.fields_of_view:\n",
    "    seg.field_of_view = fov\n",
    "    nuclei_labels, combined_membranes, nucleus_label_where, membrane_label_where = seg.run()\n",
    "    if calculate_expression:\n",
    "        markers = {m.split(\"_\")[1]: os.path.join(seg.get_fov_dir(), m) for m in sorted(os.listdir(seg.get_fov_dir())) if m.endswith(\".tif\") and \"phase\" not in m}\n",
    "        del markers['Propidium iodide']\n",
    "\n",
    "        for m in markers:\n",
    "            m_img = cv2.imread(markers[m], cv2.IMREAD_GRAYSCALE) \n",
    "            tile_std = np.std(m_img)\n",
    "            adaptive = cv2.adaptiveThreshold(m_img, 255, cv2.ADAPTIVE_THRESH_GAUSSIAN_C, cv2.THRESH_BINARY, 201, -tile_std)  \n",
    "            expression = get_expression(adaptive, where_dict_nuc)\n",
    "    break"
   ]
  },
  {
   "cell_type": "code",
   "execution_count": 8,
   "id": "204fa27e-1ef4-439a-9ec5-1186d797451d",
   "metadata": {},
   "outputs": [
    {
     "data": {
      "text/plain": [
       "(2018, 2018)"
      ]
     },
     "execution_count": 8,
     "metadata": {},
     "output_type": "execute_result"
    }
   ],
   "source": [
    "nuclei_labels.shape"
   ]
  },
  {
   "cell_type": "code",
   "execution_count": null,
   "id": "f53965da-fd89-46d7-8b11-c2e752d9be09",
   "metadata": {},
   "outputs": [],
   "source": []
  }
 ],
 "metadata": {
  "kernelspec": {
   "display_name": "Python 3 (ipykernel)",
   "language": "python",
   "name": "python3"
  },
  "language_info": {
   "codemirror_mode": {
    "name": "ipython",
    "version": 3
   },
   "file_extension": ".py",
   "mimetype": "text/x-python",
   "name": "python",
   "nbconvert_exporter": "python",
   "pygments_lexer": "ipython3",
   "version": "3.9.16"
  }
 },
 "nbformat": 4,
 "nbformat_minor": 5
}
