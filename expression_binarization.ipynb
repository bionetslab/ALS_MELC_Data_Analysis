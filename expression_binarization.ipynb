{
 "cells": [
  {
   "cell_type": "code",
   "execution_count": 1,
   "id": "a17edfa3-efcd-4582-932d-eb39b22ccede",
   "metadata": {},
   "outputs": [
    {
     "name": "stderr",
     "output_type": "stream",
     "text": [
      "2023-06-13 17:23:52.282919: I tensorflow/core/util/port.cc:110] oneDNN custom operations are on. You may see slightly different numerical results due to floating-point round-off errors from different computation orders. To turn them off, set the environment variable `TF_ENABLE_ONEDNN_OPTS=0`.\n",
      "2023-06-13 17:23:52.284134: I tensorflow/tsl/cuda/cudart_stub.cc:28] Could not find cuda drivers on your machine, GPU will not be used.\n",
      "2023-06-13 17:23:52.309422: I tensorflow/tsl/cuda/cudart_stub.cc:28] Could not find cuda drivers on your machine, GPU will not be used.\n",
      "2023-06-13 17:23:52.309835: I tensorflow/core/platform/cpu_feature_guard.cc:182] This TensorFlow binary is optimized to use available CPU instructions in performance-critical operations.\n",
      "To enable the following instructions: AVX2 AVX512F AVX512_VNNI FMA, in other operations, rebuild TensorFlow with the appropriate compiler flags.\n",
      "2023-06-13 17:23:52.682162: W tensorflow/compiler/tf2tensorrt/utils/py_utils.cc:38] TF-TRT Warning: Could not find TensorRT\n"
     ]
    }
   ],
   "source": [
    "import matplotlib.pyplot as plt\n",
    "import json\n",
    "import os\n",
    "import cv2\n",
    "import time\n",
    "import numpy as np\n",
    "from csbdeep.utils import Path, normalize\n",
    "from segmentation import MELC_Segmentation\n",
    "import pickle\n",
    "import pandas as pd\n",
    "from sklearn.decomposition import PCA\n",
    "from sklearn.preprocessing import StandardScaler\n",
    "from sklearn.cluster import KMeans\n",
    "import seaborn as sns\n",
    "import umap\n"
   ]
  },
  {
   "cell_type": "code",
   "execution_count": 2,
   "id": "aea7f562-20b1-45b3-b85e-759a8d191e7b",
   "metadata": {},
   "outputs": [],
   "source": [
    "%load_ext autoreload\n",
    "%autoreload 2"
   ]
  },
  {
   "cell_type": "code",
   "execution_count": 3,
   "id": "ac0aefa4-b4b7-4a68-aca9-fb1c32d99e8a",
   "metadata": {},
   "outputs": [],
   "source": [
    "# Normalize expression w.r.t. control mean and std deviation\n",
    "segment = \"nuclei\"\n",
    "dfs = list()\n",
    "fields_of_view = [f for f in os.listdir(f\"./marker_expression_{segment}_results/\") if f.endswith(\".pkl\")]\n",
    "\n",
    "for fov in fields_of_view:\n",
    "    df = pd.read_pickle(f\"./marker_expression_{segment}_results/{fov}\")  \n",
    "    df[\"Field of View\"] = fov.split(\".\")[0]\n",
    "    df[\"Sample\"] = fov.split(\" \")[0]\n",
    "    df[\"Group\"] = \"Case\" if \"ALS\" in fov else \"Control\"\n",
    "    temp = df.index\n",
    "    df[\"Index\"] = df.index\n",
    "    df = df.set_index([\"Field of View\", \"Index\"])\n",
    "    dfs.append(df)\n",
    "\n",
    "expression_data = pd.concat(dfs)\n",
    "y_cols = [\"Group\", \"Sample\"]\n",
    "ys = expression_data[y_cols]\n",
    "Xs = expression_data.drop(labels=y_cols, axis=1)\n",
    "\n",
    "control = expression_data[expression_data[\"Group\"] == \"Control\"].drop(labels=y_cols, axis=1)\n",
    "control_mean = control.mean(axis=0)\n",
    "control_std = control.std(axis=0)\n",
    "Xs_normalized = (Xs - control_mean) / control_std\n",
    "\n",
    "binary_df = (Xs_normalized > 0)\n",
    "binary_df = binary_df.astype(int)\n",
    "#binary_df.to_pickle(f\"./binary_expression_{segment}_only_control_as_reference.pkl\")  "
   ]
  },
  {
   "cell_type": "code",
   "execution_count": 4,
   "id": "281b2173-7d8b-4cf9-ab12-c9a23f8fa7d3",
   "metadata": {},
   "outputs": [
    {
     "data": {
      "text/plain": [
       "CD11b-PE       42290\n",
       "CD16-PE        33250\n",
       "CD2-FITC       52459\n",
       "CD26-PE        33263\n",
       "CD29-FITC      47078\n",
       "CD3-PE         50612\n",
       "CD36-FITC      41288\n",
       "CD38-PE        42934\n",
       "CD4-PE         45723\n",
       "CD45-PE        62136\n",
       "CD45RA-PE      51843\n",
       "CD56-PE        45250\n",
       "CD57-PE        21515\n",
       "CD7-PE         51617\n",
       "CD8-PE         33285\n",
       "HLA-DQ-FITC    54210\n",
       "HLA-DR-PE      43764\n",
       "NeuN-AF488     32154\n",
       "PBS            11557\n",
       "dtype: int64"
      ]
     },
     "execution_count": 4,
     "metadata": {},
     "output_type": "execute_result"
    }
   ],
   "source": [
    "binary_df.sum(axis=0)"
   ]
  },
  {
   "cell_type": "code",
   "execution_count": 5,
   "id": "c3036b87-0151-4c6b-b275-e8aa3ab10044",
   "metadata": {},
   "outputs": [],
   "source": [
    "# Normalize expression w.r.t. global mean and std deviation\n",
    "segment = \"nuclei\"\n",
    "dfs = list()\n",
    "fields_of_view = [f for f in os.listdir(f\"./marker_expression_{segment}_results/\") if f.endswith(\".pkl\")]\n",
    "\n",
    "for fov in fields_of_view:\n",
    "    df = pd.read_pickle(f\"./marker_expression_{segment}_results/{fov}\")   \n",
    "    df[\"Field of View\"] = fov.split(\".\")[0]\n",
    "    df[\"Sample\"] = fov.split(\" \")[0]\n",
    "    df[\"Group\"] = \"Case\" if \"ALS\" in fov else \"Control\"\n",
    "    temp = df.index\n",
    "    df[\"Index\"] = df.index\n",
    "    df = df.set_index([\"Field of View\", \"Index\"])\n",
    "    dfs.append(df)\n",
    "\n",
    "expression_data = pd.concat(dfs)\n",
    "y_cols = [\"Group\", \"Sample\"]\n",
    "ys = expression_data[y_cols]\n",
    "Xs = expression_data.drop(labels=y_cols, axis=1)\n",
    "\n",
    "Xs_normalized = StandardScaler().fit_transform(Xs)\n",
    "df_normalized = pd.DataFrame(data=Xs, index=Xs.index, columns=Xs.columns)\n",
    "\n",
    "binary_df = (df_normalized > 0)\n",
    "binary_df = binary_df.astype(int)\n",
    "#binary_df.to_pickle(f\"./binary_expression_{segment}_all_samples_as_reference.pkl\")  "
   ]
  },
  {
   "cell_type": "code",
   "execution_count": 6,
   "id": "c722b49b-6467-456e-89f6-09d72fbf15cf",
   "metadata": {},
   "outputs": [
    {
     "data": {
      "text/plain": [
       "CD11b-PE        68383\n",
       "CD16-PE         53242\n",
       "CD2-FITC       152956\n",
       "CD26-PE         58166\n",
       "CD29-FITC       91760\n",
       "CD3-PE          92298\n",
       "CD36-FITC       76513\n",
       "CD38-PE         85173\n",
       "CD4-PE          90341\n",
       "CD45-PE        134836\n",
       "CD45RA-PE       99763\n",
       "CD56-PE        131928\n",
       "CD57-PE         29977\n",
       "CD7-PE          93734\n",
       "CD8-PE          61438\n",
       "HLA-DQ-FITC    161074\n",
       "HLA-DR-PE       85686\n",
       "NeuN-AF488      44185\n",
       "PBS             16921\n",
       "dtype: int64"
      ]
     },
     "execution_count": 6,
     "metadata": {},
     "output_type": "execute_result"
    }
   ],
   "source": [
    "binary_df.sum(axis=0)"
   ]
  },
  {
   "cell_type": "code",
   "execution_count": null,
   "id": "05ec9a7d-4d86-405a-ac1e-f398827ac77b",
   "metadata": {},
   "outputs": [],
   "source": []
  }
 ],
 "metadata": {
  "kernelspec": {
   "display_name": "Python 3 (ipykernel)",
   "language": "python",
   "name": "python3"
  },
  "language_info": {
   "codemirror_mode": {
    "name": "ipython",
    "version": 3
   },
   "file_extension": ".py",
   "mimetype": "text/x-python",
   "name": "python",
   "nbconvert_exporter": "python",
   "pygments_lexer": "ipython3",
   "version": "3.9.16"
  },
  "toc-autonumbering": true
 },
 "nbformat": 4,
 "nbformat_minor": 5
}
