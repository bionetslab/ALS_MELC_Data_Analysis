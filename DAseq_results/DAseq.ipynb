{
 "cells": [
  {
   "cell_type": "code",
   "execution_count": 1,
   "id": "f8340052-9b2d-4735-8a6c-3aa72776fe97",
   "metadata": {},
   "outputs": [
    {
     "name": "stderr",
     "output_type": "stream",
     "text": [
      "The legacy packages maptools, rgdal, and rgeos, underpinning the sp package,\n",
      "which was just loaded, will retire in October 2023.\n",
      "Please refer to R-spatial evolution reports for details, especially\n",
      "https://r-spatial.org/r/2023/05/15/evolution4.html.\n",
      "It may be desirable to make the sf package available;\n",
      "package maintainers should consider adding sf to Suggests:.\n",
      "The sp package is now running under evolution status 2\n",
      "     (status 2 uses the sf package in place of rgdal)\n",
      "\n",
      "Warning message:\n",
      "“package ‘stringr’ was built under R version 4.2.3”\n"
     ]
    }
   ],
   "source": [
    "# author: Nicolai Meyerhöfer\n",
    "\n",
    "library(DAseq)\n",
    "library(rjson)\n",
    "library(reticulate)\n",
    "library(stringr)\n",
    "pd <- import(\"pandas\")\n",
    "#' Calculates the individual differentially abundant (DA) cells and clusters for all of the given samples vs the given controls\n",
    "#'\n",
    "#' @param controls Dataframe of controls\n",
    "#' @param patients Dataframe of patients\n",
    "#' @param save_path Path to save results to\n",
    "#' @param save_file_name Optional extra filename for saving DA cells and regions\n",
    "#' @param remove_nrows Optional removal of rows of patient dataframe for validation\n",
    "#' \n"
   ]
  },
  {
   "cell_type": "code",
   "execution_count": 2,
   "id": "cab100b2-f2e2-490d-b2f6-5214274ac2e7",
   "metadata": {},
   "outputs": [],
   "source": [
    "#' Constructs a data frame comprised of all given samples.\n",
    "#'\n",
    "#' @param csv_paths CSV paths of all used samples\n",
    "#' @param labels Labels of samples to use in given csv files\n",
    "#' @returns data frame comprised of all given samples\n",
    "read_data <- function(pickle_paths) {\n",
    "  df <- data.frame()  # Create an empty data frame\n",
    "\n",
    "  for (pickle_path in pickle_paths) {\n",
    "    str_list = str_split(pickle_paths, \"/\") \n",
    "    label = basename(pickle_path)\n",
    "    pickle_data <- pd$read_pickle(pickle_path)  # Read pickle file using reticulate\n",
    "    pickle_data$label <- rep(label, nrow(pickle_data))\n",
    "    df <- rbind(df, pickle_data)\n",
    "    }\n",
    "  return(df)\n",
    "}\n"
   ]
  },
  {
   "cell_type": "code",
   "execution_count": null,
   "id": "9c9e32b1-8169-4cb8-a8a4-8044aaf8cb9e",
   "metadata": {},
   "outputs": [],
   "source": []
  },
  {
   "cell_type": "code",
   "execution_count": 3,
   "id": "5e7ff348-2a3f-42a9-b33e-fbe80ab04163",
   "metadata": {
    "tags": []
   },
   "outputs": [],
   "source": [
    "control_dir <- \"/data_slow/je30bery/spatial_proteomics/marker_expression_nuclei_results/control\"\n",
    "patient_dir <- \"/data_slow/je30bery/spatial_proteomics/marker_expression_nuclei_results/case\"\n",
    "\n",
    "#control_samples <- strsplit(args[3], \",\")[[1]] #TODO\n",
    "#patient_samples <- strsplit(args[4], \",\")[[1]] #TODO\n",
    "\n",
    "r_file_out <- \"/data_slow/je30bery/spatial_proteomics/DAseq_results/\"\n",
    "json_file_out <- \"/data_slow/je30bery/spatial_proteomics/DAseq_results/\"\n",
    "\n",
    "# Check that the directories exist\n",
    "if (!file.exists(control_dir) || !file.info(control_dir)$isdir) {\n",
    "    stop(paste0(\"Directory does not exist: \", control_dir))\n",
    "}\n",
    "if (!file.exists(patient_dir) || !file.info(patient_dir)$isdir) {\n",
    "    stop(paste0(\"Directory does not exist: \", patient_dir))\n",
    "}\n",
    "\n",
    "# Get CSV filenames\n",
    "control_files <- list.files(control_dir, \"*.pkl\", full.names=TRUE)\n",
    "patient_files <- list.files(patient_dir, \"*.pkl\", full.names=TRUE)\n",
    "\n",
    "# Read data\n",
    "control_data <- read_data(control_files)\n",
    "if (is.null(control_data)) {\n",
    "    warning(paste0(\"No pickle files found in \", control_dir))\n",
    "}\n",
    "patient_data <- read_data(patient_files)\n",
    "if (is.null(patient_data)) {\n",
    "    warning(paste0(\"No pickle files found in \", patient_dir))\n",
    "}\n",
    "\n",
    "# Calculate clusters\n",
    "#calculate_DA_clusters(controls = control_data, patients = patient_data,\n",
    "#                       save_path = r_file_out, json_save_path = json_file_out)"
   ]
  },
  {
   "cell_type": "code",
   "execution_count": 4,
   "id": "5d6f4301-2175-4b1a-ab6f-e36073a54651",
   "metadata": {},
   "outputs": [],
   "source": [
    "controls <- control_data\n",
    "patients <- patient_data\n",
    "save_path = r_file_out\n",
    "json_save_path = json_file_out\n",
    "save_file_name = \"\"\n",
    "\n",
    "runFItSNE <- function(data, seed.use = 0, reduction.name = \"tsne\", reduction.key = \"tSNE_\",\n",
    "                        fast.R.path = \"/data_slow/je30bery/DAseq-master/FIt-SNE/fast_tsne.R\", ...)\n",
    "{\n",
    "    current.dir <- getwd()\n",
    "    source(fast.R.path, chdir = T)\n",
    "    X.out <- fftRtsne(X = data, rand_seed = seed.use, ...)\n",
    "    setwd(current.dir)\n",
    "    return(X.out)\n",
    "}\n",
    "\n",
    "\n",
    "ids_controls <- controls[,ncol(controls)]\n",
    "ids_patients <- patients[,ncol(patients)]\n"
   ]
  },
  {
   "cell_type": "code",
   "execution_count": 5,
   "id": "eef3a26a-3996-473e-a910-2849b9c82b92",
   "metadata": {},
   "outputs": [],
   "source": [
    "sample_id = 'all'"
   ]
  },
  {
   "cell_type": "code",
   "execution_count": 6,
   "id": "ba425229-b665-4588-b1f3-3336d1984d62",
   "metadata": {
    "tags": []
   },
   "outputs": [
    {
     "name": "stderr",
     "output_type": "stream",
     "text": [
      "FIt-SNE R wrapper loading.\n",
      "\n",
      "FIt-SNE root directory was set to /data_slow/je30bery/DAseq-master/FIt-SNE\n",
      "\n",
      "Using irlba() to compute the top PCs for initialization.\n",
      "\n"
     ]
    }
   ],
   "source": [
    "df_new_tmp <- rbind(controls, patients)\n",
    "df_new <- df_new_tmp[,1:ncol(df_new_tmp)-1]\n",
    "df_new <- sapply(df_new, as.numeric)\n",
    "\n",
    "df.scaled <- scale(df_new)\n",
    "data_tsne <- runFItSNE(df.scaled)\n",
    "data_tsne.col <- ncol(data_tsne)\n",
    "\n",
    "colnames(data_tsne) <- paste(\"tSNE_\", c(1:data_tsne.col), sep=\"\")\n",
    "rownames(data_tsne) <- rownames(df.scaled)\n",
    "\n",
    "cell_labels <- as.character(df_new_tmp[, ncol(df_new_tmp)])\n",
    "#print(cell_labels)\n",
    "labels_1 <- as.character(ids_patients[!duplicated(ids_patients)])\n",
    "labels_2 <- as.character(ids_controls[!duplicated(ids_controls)])\n",
    "\n",
    "df_scaled <- as.data.frame(df.scaled)"
   ]
  },
  {
   "cell_type": "code",
   "execution_count": null,
   "id": "676f7643-ca46-4b8e-94c9-01888ed35c4f",
   "metadata": {},
   "outputs": [],
   "source": [
    "da_cells <- getDAcells(\n",
    "        X = df_scaled,\n",
    "        cell.labels = cell_labels,\n",
    "        labels.1 = labels_1,\n",
    "        labels.2 = labels_2,\n",
    "        k.vector = seq(50, 500, 50),\n",
    "        plot.embedding = data_tsne\n",
    ")"
   ]
  },
  {
   "cell_type": "code",
   "execution_count": null,
   "id": "8fc52bdf-11fd-4276-ad2a-e5119e02a890",
   "metadata": {},
   "outputs": [],
   "source": [
    "da_cells <- updateDAcells(\n",
    "        X = da_cells,\n",
    "        pred.thres = c(-0.8,0.8),\n",
    "        do.plot = T,\n",
    "        plot.embedding = data_tsne,\n",
    "        size = 0.1\n",
    ")"
   ]
  },
  {
   "cell_type": "code",
   "execution_count": null,
   "id": "5087343e-b34c-4bfc-81c3-dc1bfa0c5c27",
   "metadata": {
    "tags": []
   },
   "outputs": [],
   "source": [
    "da_cells$cell.idx"
   ]
  },
  {
   "cell_type": "code",
   "execution_count": null,
   "id": "a5508575-1875-44eb-a9a3-0384893923e7",
   "metadata": {},
   "outputs": [],
   "source": [
    "f <- paste(save_path, \"da_cells_\", save_file_name, sample_id, \".rds\", sep=\"\")\n",
    "saveRDS(da_cells, f)\n",
    "\n",
    "da_regions <- getDAregion(\n",
    "        X = df.scaled,\n",
    "        da.cells = da_cells,\n",
    "        cell.labels = df_new_tmp[,ncol(df_new_tmp)],\n",
    "        labels.1 = ids_patients[!duplicated(ids_patients)],\n",
    "        labels.2 = ids_controls[!duplicated(ids_controls)],\n",
    "        resolution = 0.01,\n",
    "        min.cell = 50,\n",
    "        plot.embedding = data_tsne,\n",
    "        size = 0.1\n",
    ")"
   ]
  },
  {
   "cell_type": "code",
   "execution_count": null,
   "id": "03bad088-7320-4817-bc28-e25dc85e66e0",
   "metadata": {},
   "outputs": [],
   "source": [
    "options(max.print = 180000)\n",
    "capture.output(da_regions$da.region.label, file = \"DA_regions.txt\")"
   ]
  },
  {
   "cell_type": "code",
   "execution_count": null,
   "id": "4abf8aa4-e52e-4fe7-a588-eecb05f4a62f",
   "metadata": {},
   "outputs": [],
   "source": [
    "\n",
    "f <- paste(save_path, \"da_regions_\", save_file_name, sample_id, \".rds\", sep=\"\")\n",
    "saveRDS(da_regions, f)\n"
   ]
  },
  {
   "cell_type": "code",
   "execution_count": null,
   "id": "45020a8a-1cec-4a2a-a9bd-6a97a5e4440a",
   "metadata": {
    "tags": []
   },
   "outputs": [],
   "source": [
    "da_regions$da.region.plot"
   ]
  },
  {
   "cell_type": "code",
   "execution_count": null,
   "id": "35fcf4c1-1ef1-4f62-9e3d-defddc35944e",
   "metadata": {},
   "outputs": [],
   "source": [
    "\n",
    "# writing the json file\n",
    "da_cluster_name <- sample_id\n",
    "cluster_labels <- which(da_regions$DA.stat[,1] < 0)\n",
    "\n",
    "da_cluster_purities <- list(da_regions$DA.stat[cluster_labels])\t\n",
    "da_cluster_cells_tmp <- list()\n",
    "da_cluster_sizes_tmp <- c()\n",
    "    for(cluster_label in cluster_labels){\n",
    "    cells <- which(da_regions$da.region.label == cluster_label)\n",
    "    # indices -1 to fit python indices because R counts indices from 1 :D \n",
    "    for(i in 1:length(cells)){\n",
    "        cells[i] <- cells[i] - 1\n",
    "    }\n",
    "    da_cluster_cells_tmp <- append(da_cluster_cells_tmp, list(cells))\n",
    "    da_cluster_sizes_tmp <- c(da_cluster_sizes_tmp, length(cells))\n",
    "}\n",
    "    da_cluster_sizes <- list(da_cluster_sizes_tmp)\t\n",
    "da_cluster_cells <- list(da_cluster_cells_tmp)\n",
    "json_df <- data.frame(da_cluster_name)\n",
    "json_clusters <- data.frame(Sizes = I(da_cluster_sizes), Purities = I(da_cluster_purities), DA_Cells = I(da_cluster_cells))\n",
    "json_df$Clusters <- json_clusters\n",
    "json_file <- toJSON(json_df)\n",
    "write(json_file, file = paste(json_save_path, sample_id, \"_clusters.json\", sep=\"\", collapse=NULL))"
   ]
  },
  {
   "cell_type": "code",
   "execution_count": null,
   "id": "3df5d83d-a87e-4473-851e-abe7bac67cc9",
   "metadata": {
    "tags": []
   },
   "outputs": [],
   "source": [
    "da_cluster_cel"
   ]
  },
  {
   "cell_type": "code",
   "execution_count": null,
   "id": "f77a83e0-6348-4ffc-810d-8ff5630d9ee1",
   "metadata": {},
   "outputs": [],
   "source": [
    "library(stageR)\n",
    "\n",
    "STG_markers <- STGmarkerFinder(\n",
    "  X = t(df_new),\n",
    "  da.regions = da_regions,\n",
    "  lambda = 1.5, n.runs = 5, return.model = T,\n",
    "  python.use = \"/data/je30bery/.conda/envs/seurat/bin/python\", GPU=0\n",
    ")"
   ]
  },
  {
   "cell_type": "code",
   "execution_count": null,
   "id": "59bf3f7c-f06a-4960-9b99-0d8353a996d9",
   "metadata": {},
   "outputs": [],
   "source": [
    "n <- df_new$name\n",
    "\n",
    "# transpose all but the first column (name)\n",
    "df_new_t <- as.data.frame(t(df_new[,-1]))\n",
    "colnames(df_new_t) <- n\n",
    "df_new_t$myfactor <- factor(row.names(df_new))\n",
    "\n",
    "str(df_new_t) # Check the column types\n"
   ]
  },
  {
   "cell_type": "code",
   "execution_count": null,
   "id": "cc63fd1c-add6-4e63-9b8b-cabf87a75995",
   "metadata": {},
   "outputs": [],
   "source": [
    "write.csv(df_new_tmp, \"df_new_temp.csv\", row.names=TRUE)"
   ]
  },
  {
   "cell_type": "code",
   "execution_count": null,
   "id": "5f59a854-7668-4450-863f-46244c7b4f66",
   "metadata": {
    "tags": []
   },
   "outputs": [],
   "source": [
    "df_new"
   ]
  },
  {
   "cell_type": "code",
   "execution_count": null,
   "id": "a3122809-2335-461e-9c21-14aa0e2f6fd1",
   "metadata": {},
   "outputs": [],
   "source": []
  }
 ],
 "metadata": {
  "kernelspec": {
   "display_name": "R",
   "language": "R",
   "name": "ir"
  },
  "language_info": {
   "codemirror_mode": "r",
   "file_extension": ".r",
   "mimetype": "text/x-r-source",
   "name": "R",
   "pygments_lexer": "r",
   "version": "4.2.0"
  }
 },
 "nbformat": 4,
 "nbformat_minor": 5
}
