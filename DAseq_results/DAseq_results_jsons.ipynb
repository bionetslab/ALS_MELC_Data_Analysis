{
 "cells": [
  {
   "cell_type": "code",
   "execution_count": 1,
   "id": "b6c242b0-d715-4622-b166-eb712f95e50d",
   "metadata": {},
   "outputs": [],
   "source": [
    "import json\n",
    "import pandas as pd \n",
    "import numpy as np"
   ]
  },
  {
   "cell_type": "code",
   "execution_count": 2,
   "id": "68dd9f60-e582-4a04-adad-23b8bd09977e",
   "metadata": {},
   "outputs": [
    {
     "name": "stderr",
     "output_type": "stream",
     "text": [
      "2023-07-19 09:47:19.674059: I tensorflow/core/util/port.cc:110] oneDNN custom operations are on. You may see slightly different numerical results due to floating-point round-off errors from different computation orders. To turn them off, set the environment variable `TF_ENABLE_ONEDNN_OPTS=0`.\n",
      "2023-07-19 09:47:19.675132: I tensorflow/tsl/cuda/cudart_stub.cc:28] Could not find cuda drivers on your machine, GPU will not be used.\n",
      "2023-07-19 09:47:19.698825: I tensorflow/tsl/cuda/cudart_stub.cc:28] Could not find cuda drivers on your machine, GPU will not be used.\n",
      "2023-07-19 09:47:19.699229: I tensorflow/core/platform/cpu_feature_guard.cc:182] This TensorFlow binary is optimized to use available CPU instructions in performance-critical operations.\n",
      "To enable the following instructions: AVX2 AVX512F AVX512_VNNI FMA, in other operations, rebuild TensorFlow with the appropriate compiler flags.\n",
      "2023-07-19 09:47:20.090874: W tensorflow/compiler/tf2tensorrt/utils/py_utils.cc:38] TF-TRT Warning: Could not find TensorRT\n"
     ]
    },
    {
     "name": "stdout",
     "output_type": "stream",
     "text": [
      "batchglm version v0.7.4\n",
      "diffpy version v0.7.4\n"
     ]
    }
   ],
   "source": [
    "%load_ext autoreload\n",
    "%autoreload 2\n",
    "\n",
    "import anndata\n",
    "import matplotlib.pyplot as plt\n",
    "import seaborn as sns\n",
    "import logging\n",
    "import numpy as np\n",
    "import pandas as pd\n",
    "import scipy.stats\n",
    "import scanpy as sc\n",
    "import batchglm.api as glm\n",
    "import diffxpy.api as de\n",
    "\n",
    "print(\"batchglm version \"+glm.__version__)\n",
    "print(\"diffpy version \"+de.__version__)"
   ]
  },
  {
   "cell_type": "code",
   "execution_count": 3,
   "id": "c2f74568-660a-4db9-b8a4-98c3c12457d4",
   "metadata": {},
   "outputs": [],
   "source": [
    "import scipy\n",
    "from statsmodels.stats.multitest import fdrcorrection"
   ]
  },
  {
   "cell_type": "code",
   "execution_count": 6,
   "id": "df7a063a-8bfa-449b-83ed-0518a60cd1a4",
   "metadata": {
    "tags": []
   },
   "outputs": [
    {
     "data": {
      "text/plain": [
       "180000"
      ]
     },
     "execution_count": 6,
     "metadata": {},
     "output_type": "execute_result"
    }
   ],
   "source": [
    "len(flat_list)"
   ]
  },
  {
   "cell_type": "code",
   "execution_count": 4,
   "id": "c855fe44-65fa-42c5-aa4e-33e8ce46d5ea",
   "metadata": {},
   "outputs": [
    {
     "ename": "ValueError",
     "evalue": "Length of values (180000) does not match length of index (189595)",
     "output_type": "error",
     "traceback": [
      "\u001b[0;31m---------------------------------------------------------------------------\u001b[0m",
      "\u001b[0;31mValueError\u001b[0m                                Traceback (most recent call last)",
      "Cell \u001b[0;32mIn[4], line 16\u001b[0m\n\u001b[1;32m     14\u001b[0m labels \u001b[38;5;241m=\u001b[39m labels\u001b[38;5;241m.\u001b[39mdrop(\u001b[38;5;124m\"\u001b[39m\u001b[38;5;124mUnnamed: 0\u001b[39m\u001b[38;5;124m\"\u001b[39m, axis\u001b[38;5;241m=\u001b[39m\u001b[38;5;241m1\u001b[39m)\n\u001b[1;32m     15\u001b[0m \u001b[38;5;66;03m#labels = labels.set_index(\"label\")\u001b[39;00m\n\u001b[0;32m---> 16\u001b[0m labels[\u001b[38;5;124m\"\u001b[39m\u001b[38;5;124mda_regions\u001b[39m\u001b[38;5;124m\"\u001b[39m] \u001b[38;5;241m=\u001b[39m flat_list\n\u001b[1;32m     17\u001b[0m labels[\u001b[38;5;124m\"\u001b[39m\u001b[38;5;124mda_regions\u001b[39m\u001b[38;5;124m\"\u001b[39m] \u001b[38;5;241m=\u001b[39m labels[\u001b[38;5;124m\"\u001b[39m\u001b[38;5;124mda_regions\u001b[39m\u001b[38;5;124m\"\u001b[39m]\u001b[38;5;241m.\u001b[39mastype(\u001b[38;5;28mint\u001b[39m)\n\u001b[1;32m     18\u001b[0m \u001b[38;5;66;03m#labels[\"condition\"] = np.where(labels['label'].str.contains(\"ALS\"), \"Case\", \"Control\")\u001b[39;00m\n",
      "File \u001b[0;32m/opt/anaconda/lib/python3.9/site-packages/pandas/core/frame.py:3655\u001b[0m, in \u001b[0;36mDataFrame.__setitem__\u001b[0;34m(self, key, value)\u001b[0m\n\u001b[1;32m   3652\u001b[0m     \u001b[38;5;28mself\u001b[39m\u001b[38;5;241m.\u001b[39m_setitem_array([key], value)\n\u001b[1;32m   3653\u001b[0m \u001b[38;5;28;01melse\u001b[39;00m:\n\u001b[1;32m   3654\u001b[0m     \u001b[38;5;66;03m# set column\u001b[39;00m\n\u001b[0;32m-> 3655\u001b[0m     \u001b[38;5;28;43mself\u001b[39;49m\u001b[38;5;241;43m.\u001b[39;49m\u001b[43m_set_item\u001b[49m\u001b[43m(\u001b[49m\u001b[43mkey\u001b[49m\u001b[43m,\u001b[49m\u001b[43m \u001b[49m\u001b[43mvalue\u001b[49m\u001b[43m)\u001b[49m\n",
      "File \u001b[0;32m/opt/anaconda/lib/python3.9/site-packages/pandas/core/frame.py:3832\u001b[0m, in \u001b[0;36mDataFrame._set_item\u001b[0;34m(self, key, value)\u001b[0m\n\u001b[1;32m   3822\u001b[0m \u001b[38;5;28;01mdef\u001b[39;00m \u001b[38;5;21m_set_item\u001b[39m(\u001b[38;5;28mself\u001b[39m, key, value) \u001b[38;5;241m-\u001b[39m\u001b[38;5;241m>\u001b[39m \u001b[38;5;28;01mNone\u001b[39;00m:\n\u001b[1;32m   3823\u001b[0m \u001b[38;5;250m    \u001b[39m\u001b[38;5;124;03m\"\"\"\u001b[39;00m\n\u001b[1;32m   3824\u001b[0m \u001b[38;5;124;03m    Add series to DataFrame in specified column.\u001b[39;00m\n\u001b[1;32m   3825\u001b[0m \n\u001b[0;32m   (...)\u001b[0m\n\u001b[1;32m   3830\u001b[0m \u001b[38;5;124;03m    ensure homogeneity.\u001b[39;00m\n\u001b[1;32m   3831\u001b[0m \u001b[38;5;124;03m    \"\"\"\u001b[39;00m\n\u001b[0;32m-> 3832\u001b[0m     value \u001b[38;5;241m=\u001b[39m \u001b[38;5;28;43mself\u001b[39;49m\u001b[38;5;241;43m.\u001b[39;49m\u001b[43m_sanitize_column\u001b[49m\u001b[43m(\u001b[49m\u001b[43mvalue\u001b[49m\u001b[43m)\u001b[49m\n\u001b[1;32m   3834\u001b[0m     \u001b[38;5;28;01mif\u001b[39;00m (\n\u001b[1;32m   3835\u001b[0m         key \u001b[38;5;129;01min\u001b[39;00m \u001b[38;5;28mself\u001b[39m\u001b[38;5;241m.\u001b[39mcolumns\n\u001b[1;32m   3836\u001b[0m         \u001b[38;5;129;01mand\u001b[39;00m value\u001b[38;5;241m.\u001b[39mndim \u001b[38;5;241m==\u001b[39m \u001b[38;5;241m1\u001b[39m\n\u001b[1;32m   3837\u001b[0m         \u001b[38;5;129;01mand\u001b[39;00m \u001b[38;5;129;01mnot\u001b[39;00m is_extension_array_dtype(value)\n\u001b[1;32m   3838\u001b[0m     ):\n\u001b[1;32m   3839\u001b[0m         \u001b[38;5;66;03m# broadcast across multiple columns if necessary\u001b[39;00m\n\u001b[1;32m   3840\u001b[0m         \u001b[38;5;28;01mif\u001b[39;00m \u001b[38;5;129;01mnot\u001b[39;00m \u001b[38;5;28mself\u001b[39m\u001b[38;5;241m.\u001b[39mcolumns\u001b[38;5;241m.\u001b[39mis_unique \u001b[38;5;129;01mor\u001b[39;00m \u001b[38;5;28misinstance\u001b[39m(\u001b[38;5;28mself\u001b[39m\u001b[38;5;241m.\u001b[39mcolumns, MultiIndex):\n",
      "File \u001b[0;32m/opt/anaconda/lib/python3.9/site-packages/pandas/core/frame.py:4535\u001b[0m, in \u001b[0;36mDataFrame._sanitize_column\u001b[0;34m(self, value)\u001b[0m\n\u001b[1;32m   4532\u001b[0m     \u001b[38;5;28;01mreturn\u001b[39;00m _reindex_for_setitem(value, \u001b[38;5;28mself\u001b[39m\u001b[38;5;241m.\u001b[39mindex)\n\u001b[1;32m   4534\u001b[0m \u001b[38;5;28;01mif\u001b[39;00m is_list_like(value):\n\u001b[0;32m-> 4535\u001b[0m     \u001b[43mcom\u001b[49m\u001b[38;5;241;43m.\u001b[39;49m\u001b[43mrequire_length_match\u001b[49m\u001b[43m(\u001b[49m\u001b[43mvalue\u001b[49m\u001b[43m,\u001b[49m\u001b[43m \u001b[49m\u001b[38;5;28;43mself\u001b[39;49m\u001b[38;5;241;43m.\u001b[39;49m\u001b[43mindex\u001b[49m\u001b[43m)\u001b[49m\n\u001b[1;32m   4536\u001b[0m \u001b[38;5;28;01mreturn\u001b[39;00m sanitize_array(value, \u001b[38;5;28mself\u001b[39m\u001b[38;5;241m.\u001b[39mindex, copy\u001b[38;5;241m=\u001b[39m\u001b[38;5;28;01mTrue\u001b[39;00m, allow_2d\u001b[38;5;241m=\u001b[39m\u001b[38;5;28;01mTrue\u001b[39;00m)\n",
      "File \u001b[0;32m/opt/anaconda/lib/python3.9/site-packages/pandas/core/common.py:557\u001b[0m, in \u001b[0;36mrequire_length_match\u001b[0;34m(data, index)\u001b[0m\n\u001b[1;32m    553\u001b[0m \u001b[38;5;250m\u001b[39m\u001b[38;5;124;03m\"\"\"\u001b[39;00m\n\u001b[1;32m    554\u001b[0m \u001b[38;5;124;03mCheck the length of data matches the length of the index.\u001b[39;00m\n\u001b[1;32m    555\u001b[0m \u001b[38;5;124;03m\"\"\"\u001b[39;00m\n\u001b[1;32m    556\u001b[0m \u001b[38;5;28;01mif\u001b[39;00m \u001b[38;5;28mlen\u001b[39m(data) \u001b[38;5;241m!=\u001b[39m \u001b[38;5;28mlen\u001b[39m(index):\n\u001b[0;32m--> 557\u001b[0m     \u001b[38;5;28;01mraise\u001b[39;00m \u001b[38;5;167;01mValueError\u001b[39;00m(\n\u001b[1;32m    558\u001b[0m         \u001b[38;5;124m\"\u001b[39m\u001b[38;5;124mLength of values \u001b[39m\u001b[38;5;124m\"\u001b[39m\n\u001b[1;32m    559\u001b[0m         \u001b[38;5;124mf\u001b[39m\u001b[38;5;124m\"\u001b[39m\u001b[38;5;124m(\u001b[39m\u001b[38;5;132;01m{\u001b[39;00m\u001b[38;5;28mlen\u001b[39m(data)\u001b[38;5;132;01m}\u001b[39;00m\u001b[38;5;124m) \u001b[39m\u001b[38;5;124m\"\u001b[39m\n\u001b[1;32m    560\u001b[0m         \u001b[38;5;124m\"\u001b[39m\u001b[38;5;124mdoes not match length of index \u001b[39m\u001b[38;5;124m\"\u001b[39m\n\u001b[1;32m    561\u001b[0m         \u001b[38;5;124mf\u001b[39m\u001b[38;5;124m\"\u001b[39m\u001b[38;5;124m(\u001b[39m\u001b[38;5;132;01m{\u001b[39;00m\u001b[38;5;28mlen\u001b[39m(index)\u001b[38;5;132;01m}\u001b[39;00m\u001b[38;5;124m)\u001b[39m\u001b[38;5;124m\"\u001b[39m\n\u001b[1;32m    562\u001b[0m     )\n",
      "\u001b[0;31mValueError\u001b[0m: Length of values (180000) does not match length of index (189595)"
     ]
    }
   ],
   "source": [
    "labels = pd.read_csv(\"df_new_temp.csv\")\n",
    "my_file = open(\"DA_regions.txt\", \"r\")\n",
    "data = my_file.read()\n",
    "da_regions = data.split(\"\\n\")\n",
    "my_file.close()\n",
    "flat_list = []\n",
    "for item in da_regions:\n",
    "    try:\n",
    "        item = item.split(']')[1].strip()  # Remove the part before ']'\n",
    "        flat_list.extend(item.split())  # Split and extend the flat_list\n",
    "    except:\n",
    "        break\n",
    "        \n",
    "labels = labels.drop(\"Unnamed: 0\", axis=1)\n",
    "#labels = labels.set_index(\"label\")\n",
    "labels[\"da_regions\"] = flat_list\n",
    "labels[\"da_regions\"] = labels[\"da_regions\"].astype(int)\n",
    "#labels[\"condition\"] = np.where(labels['label'].str.contains(\"ALS\"), \"Case\", \"Control\")\n",
    "labels[\"condition\"] = np.where(labels['label'].str.contains(\"ALS\"), 1, 0)\n",
    "\n",
    "labels[\"sample\"] = labels[\"label\"].str[:-12]"
   ]
  },
  {
   "cell_type": "code",
   "execution_count": null,
   "id": "3f5cbd7b-972e-4fcd-937c-8c2fcee69b30",
   "metadata": {},
   "outputs": [],
   "source": [
    "adata = sc.AnnData(X=labels.iloc[:,:-4].to_numpy(), obs=labels[[\"condition\", \"da_regions\"]])"
   ]
  },
  {
   "cell_type": "code",
   "execution_count": null,
   "id": "e3c1b1bb-7be6-4ddd-aec9-cb7a90be8187",
   "metadata": {},
   "outputs": [],
   "source": [
    "adata"
   ]
  },
  {
   "cell_type": "code",
   "execution_count": null,
   "id": "3ff6239c-1f1d-4f24-a76e-4c5ca17fdba9",
   "metadata": {},
   "outputs": [],
   "source": [
    "test = de.test.pairwise(\n",
    "    data=adata,\n",
    "    grouping=\"da_regions\",\n",
    "    test=\"z-test\",\n",
    "    lazy=False,\n",
    "    noise_model=\"nb\"\n",
    ")"
   ]
  },
  {
   "cell_type": "code",
   "execution_count": null,
   "id": "e3d92541-bc0f-454a-9300-f9a8fd1825c4",
   "metadata": {},
   "outputs": [],
   "source": []
  },
  {
   "cell_type": "code",
   "execution_count": null,
   "id": "214a480a-260d-44c2-bde5-9d2ac5f29bc4",
   "metadata": {},
   "outputs": [],
   "source": [
    "labels[\"da_regions\"]"
   ]
  },
  {
   "cell_type": "code",
   "execution_count": null,
   "id": "052b8c95-dfec-4737-9394-a1f36e21c977",
   "metadata": {},
   "outputs": [],
   "source": [
    "labels"
   ]
  },
  {
   "cell_type": "code",
   "execution_count": null,
   "id": "2e0e8a5c-cc8d-4f9f-b27d-22f6b262ae3f",
   "metadata": {},
   "outputs": [],
   "source": [
    "crash"
   ]
  },
  {
   "cell_type": "code",
   "execution_count": null,
   "id": "405e8a5f-ae1f-42a2-b8be-c2f62a970230",
   "metadata": {},
   "outputs": [],
   "source": [
    "import seaborn as sns \n",
    "import matplotlib.pyplot as plt"
   ]
  },
  {
   "cell_type": "code",
   "execution_count": null,
   "id": "fba3a20c-b233-425b-b002-26f111d3dc28",
   "metadata": {},
   "outputs": [],
   "source": [
    "labels[\"da_regions\"]"
   ]
  },
  {
   "cell_type": "code",
   "execution_count": null,
   "id": "66945dfb-ba2b-42a8-8df3-25cff0a3abeb",
   "metadata": {
    "tags": []
   },
   "outputs": [],
   "source": [
    "#plt.clf()\n",
    "sns.displot(labels, x=\"da_regions\", hue=\"condition\", kind=\"hist\", multiple=\"stack\", bins=len(np.unique(labels[\"da_regions\"].values)))\n",
    "plt.yscale(\"log\")"
   ]
  },
  {
   "cell_type": "code",
   "execution_count": null,
   "id": "e4b0ce6f-fdcf-41c9-bc29-734f2c1dc4c3",
   "metadata": {},
   "outputs": [],
   "source": [
    "#plt.clf()\n",
    "sns.displot(labels, x=\"da_regions\", hue=\"label\", kind=\"hist\", multiple=\"stack\", bins=len(np.unique(labels[\"da_regions\"].values)))\n",
    "plt.yscale(\"log\")"
   ]
  },
  {
   "cell_type": "code",
   "execution_count": null,
   "id": "ff5d53a0-bb00-43f8-85b6-aecfbec8aff1",
   "metadata": {},
   "outputs": [],
   "source": [
    "#plt.clf()\n",
    "#labels = labels[labels[\"da_regions\"] != 0]\n",
    "sns.displot(labels[labels[\"condition\"] == \"Case\"] , x=\"da_regions\", hue=\"sample\", kind=\"hist\", multiple=\"stack\", bins=len(np.unique(labels[\"da_regions\"].values)))\n",
    "#plt.yscale(\"log\")\n",
    "plt.xticks(range(len(np.unique(labels[\"da_regions\"].values))))\n",
    "plt.show()"
   ]
  },
  {
   "cell_type": "code",
   "execution_count": null,
   "id": "a7a104c5-ce3d-47b9-b31d-5bcb6f67ba4f",
   "metadata": {},
   "outputs": [],
   "source": [
    "#plt.clf()\n",
    "#labels = labels[labels[\"da_regions\"] != 0]\n",
    "sns.displot(labels[labels[\"condition\"] == \"Control\"] , x=\"da_regions\", hue=\"sample\", kind=\"hist\", multiple=\"stack\", bins=len(np.unique(labels[\"da_regions\"].values)))\n",
    "#plt.yscale(\"log\")\n",
    "plt.xticks(range(len(np.unique(labels[\"da_regions\"].values))))\n",
    "plt.show()"
   ]
  },
  {
   "cell_type": "code",
   "execution_count": null,
   "id": "307120d7-a9b5-4848-bb14-7312726efb00",
   "metadata": {},
   "outputs": [],
   "source": [
    "plt.clf()\n",
    "sns.displot(labels, x=\"da_regions\", y='CD11b-PE', bins=12)"
   ]
  },
  {
   "cell_type": "code",
   "execution_count": null,
   "id": "ed9bddb1-1ca5-4eb0-9318-0369a5cecd0a",
   "metadata": {},
   "outputs": [],
   "source": [
    "#plt.clf()\n",
    "#labels = labels[labels[\"da_regions\"] != 0]\n",
    "sns.displot(labels[labels[\"da_regions\"] != 0] , x=\"da_regions\", hue=\"sample\", kind=\"hist\", multiple=\"stack\", bins=len(np.unique(labels[\"da_regions\"].values)))\n",
    "#plt.yscale(\"log\")\n",
    "plt.xticks(range(len(np.unique(labels[\"da_regions\"].values))))\n",
    "plt.show()"
   ]
  },
  {
   "cell_type": "code",
   "execution_count": null,
   "id": "baa32dec-baa2-4024-8e18-40e9a0ec7ad4",
   "metadata": {},
   "outputs": [],
   "source": [
    "regions = np.unique(labels[\"da_regions\"].values)\n",
    "\n",
    "genes = np.array(labels.columns[:-4])\n",
    "de = np.ndarray((len(regions), len(genes))) \n",
    "    \n",
    "for i, region in enumerate(regions):\n",
    "    pvals = {}\n",
    "\n",
    "    for gene in genes:\n",
    "        x_cells = labels[labels[\"da_regions\"] == region]\n",
    "        y_cells = labels[labels[\"da_regions\"] != region]\n",
    "        x = x_cells[gene].values        \n",
    "        y = y_cells[gene].values\n",
    "        pvals[gene] = scipy.stats.mannwhitneyu(x,y).pvalue\n",
    "    rejected = fdrcorrection(list(pvals.values()))\n",
    "    degs_for_region = genes[np.where(rejected[0])]\n",
    "    de[i] = rejected[0]"
   ]
  },
  {
   "cell_type": "code",
   "execution_count": null,
   "id": "f6a6de51-d91f-4130-b56a-d94eb3a43170",
   "metadata": {},
   "outputs": [],
   "source": [
    "pvals"
   ]
  },
  {
   "cell_type": "code",
   "execution_count": null,
   "id": "fbb0e691-6d7c-4fd8-8eb2-5c28f24694b6",
   "metadata": {},
   "outputs": [],
   "source": [
    "res = pd.DataFrame(de, columns=genes, index=regions, dtype=bool)"
   ]
  },
  {
   "cell_type": "code",
   "execution_count": null,
   "id": "455ff258-f463-47eb-a51a-1dd4fe79a259",
   "metadata": {},
   "outputs": [],
   "source": [
    "res"
   ]
  },
  {
   "cell_type": "code",
   "execution_count": null,
   "id": "b4222c39-62af-44d0-bf9d-1b0f81b2c26e",
   "metadata": {
    "tags": []
   },
   "outputs": [],
   "source": [
    "%pip install pydeseq2"
   ]
  },
  {
   "cell_type": "raw",
   "id": "9eb6b5cf-42fb-4eeb-8abb-f63e639db653",
   "metadata": {},
   "source": [
    "check if deseq2 is applicable\n",
    "diffexpy (scanpy).test. par\n"
   ]
  }
 ],
 "metadata": {
  "kernelspec": {
   "display_name": "Python 3 (ipykernel)",
   "language": "python",
   "name": "python3"
  },
  "language_info": {
   "codemirror_mode": {
    "name": "ipython",
    "version": 3
   },
   "file_extension": ".py",
   "mimetype": "text/x-python",
   "name": "python",
   "nbconvert_exporter": "python",
   "pygments_lexer": "ipython3",
   "version": "3.9.16"
  }
 },
 "nbformat": 4,
 "nbformat_minor": 5
}
