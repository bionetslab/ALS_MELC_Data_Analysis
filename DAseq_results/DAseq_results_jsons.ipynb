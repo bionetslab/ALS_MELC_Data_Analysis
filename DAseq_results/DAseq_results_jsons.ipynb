{
 "cells": [
  {
   "cell_type": "code",
   "execution_count": 1,
   "id": "b6c242b0-d715-4622-b166-eb712f95e50d",
   "metadata": {},
   "outputs": [],
   "source": [
    "import json\n",
    "import pandas as pd \n",
    "import numpy as np"
   ]
  },
  {
   "cell_type": "code",
   "execution_count": 9,
   "id": "68dd9f60-e582-4a04-adad-23b8bd09977e",
   "metadata": {},
   "outputs": [
    {
     "name": "stdout",
     "output_type": "stream",
     "text": [
      "The autoreload extension is already loaded. To reload it, use:\n",
      "  %reload_ext autoreload\n"
     ]
    },
    {
     "name": "stderr",
     "output_type": "stream",
     "text": [
      "2023-07-14 17:32:23.576043: I tensorflow/core/util/port.cc:110] oneDNN custom operations are on. You may see slightly different numerical results due to floating-point round-off errors from different computation orders. To turn them off, set the environment variable `TF_ENABLE_ONEDNN_OPTS=0`.\n",
      "2023-07-14 17:32:23.577152: I tensorflow/tsl/cuda/cudart_stub.cc:28] Could not find cuda drivers on your machine, GPU will not be used.\n",
      "2023-07-14 17:32:23.600719: I tensorflow/tsl/cuda/cudart_stub.cc:28] Could not find cuda drivers on your machine, GPU will not be used.\n",
      "2023-07-14 17:32:23.601122: I tensorflow/core/platform/cpu_feature_guard.cc:182] This TensorFlow binary is optimized to use available CPU instructions in performance-critical operations.\n",
      "To enable the following instructions: AVX2 AVX512F AVX512_VNNI FMA, in other operations, rebuild TensorFlow with the appropriate compiler flags.\n",
      "2023-07-14 17:32:24.078354: W tensorflow/compiler/tf2tensorrt/utils/py_utils.cc:38] TF-TRT Warning: Could not find TensorRT\n"
     ]
    },
    {
     "name": "stdout",
     "output_type": "stream",
     "text": [
      "batchglm version v0.7.4\n",
      "diffpy version v0.7.4\n"
     ]
    }
   ],
   "source": [
    "%load_ext autoreload\n",
    "%autoreload 2\n",
    "\n",
    "import anndata\n",
    "import matplotlib.pyplot as plt\n",
    "import seaborn as sns\n",
    "import logging\n",
    "import numpy as np\n",
    "import pandas as pd\n",
    "import scipy.stats\n",
    "import scanpy as sc\n",
    "import batchglm.api as glm\n",
    "import diffxpy.api as de\n",
    "\n",
    "print(\"batchglm version \"+glm.__version__)\n",
    "print(\"diffpy version \"+de.__version__)"
   ]
  },
  {
   "cell_type": "code",
   "execution_count": 2,
   "id": "c2f74568-660a-4db9-b8a4-98c3c12457d4",
   "metadata": {},
   "outputs": [],
   "source": [
    "import scipy\n",
    "from statsmodels.stats.multitest import fdrcorrection"
   ]
  },
  {
   "cell_type": "code",
   "execution_count": 22,
   "id": "c855fe44-65fa-42c5-aa4e-33e8ce46d5ea",
   "metadata": {},
   "outputs": [],
   "source": [
    "labels = pd.read_csv(\"df_new_temp.csv\")\n",
    "my_file = open(\"DA_regions.txt\", \"r\")\n",
    "data = my_file.read()\n",
    "da_regions = data.split(\"\\n\")\n",
    "my_file.close()\n",
    "flat_list = []\n",
    "for item in da_regions:\n",
    "    try:\n",
    "        item = item.split(']')[1].strip()  # Remove the part before ']'\n",
    "        flat_list.extend(item.split())  # Split and extend the flat_list\n",
    "    except:\n",
    "        break\n",
    "        \n",
    "labels = labels.drop(\"Unnamed: 0\", axis=1)\n",
    "#labels = labels.set_index(\"label\")\n",
    "labels[\"da_regions\"] = flat_list\n",
    "labels[\"da_regions\"] = labels[\"da_regions\"].astype(int)\n",
    "#labels[\"condition\"] = np.where(labels['label'].str.contains(\"ALS\"), \"Case\", \"Control\")\n",
    "labels[\"condition\"] = np.where(labels['label'].str.contains(\"ALS\"), 1, 0)\n",
    "\n",
    "labels[\"sample\"] = labels[\"label\"].str[:-12]"
   ]
  },
  {
   "cell_type": "code",
   "execution_count": 28,
   "id": "3f5cbd7b-972e-4fcd-937c-8c2fcee69b30",
   "metadata": {},
   "outputs": [
    {
     "name": "stderr",
     "output_type": "stream",
     "text": [
      "/data/je30bery/.local/lib/python3.9/site-packages/anndata/_core/anndata.py:117: ImplicitModificationWarning: Transforming to str index.\n",
      "  warnings.warn(\"Transforming to str index.\", ImplicitModificationWarning)\n"
     ]
    }
   ],
   "source": [
    "adata = sc.AnnData(X=labels.iloc[:,:-4].to_numpy(), obs=labels[[\"condition\", \"da_regions\"]])"
   ]
  },
  {
   "cell_type": "code",
   "execution_count": 30,
   "id": "e3c1b1bb-7be6-4ddd-aec9-cb7a90be8187",
   "metadata": {},
   "outputs": [
    {
     "data": {
      "text/plain": [
       "AnnData object with n_obs × n_vars = 171154 × 19\n",
       "    obs: 'condition', 'da_regions'"
      ]
     },
     "execution_count": 30,
     "metadata": {},
     "output_type": "execute_result"
    }
   ],
   "source": [
    "adata"
   ]
  },
  {
   "cell_type": "code",
   "execution_count": 27,
   "id": "3ff6239c-1f1d-4f24-a76e-4c5ca17fdba9",
   "metadata": {},
   "outputs": [
    {
     "ename": "ValueError",
     "evalue": "type <class 'tuple'> not recognized",
     "output_type": "error",
     "traceback": [
      "\u001b[0;31m---------------------------------------------------------------------------\u001b[0m",
      "\u001b[0;31mValueError\u001b[0m                                Traceback (most recent call last)",
      "Cell \u001b[0;32mIn[27], line 1\u001b[0m\n\u001b[0;32m----> 1\u001b[0m test \u001b[38;5;241m=\u001b[39m \u001b[43mde\u001b[49m\u001b[38;5;241;43m.\u001b[39;49m\u001b[43mtest\u001b[49m\u001b[38;5;241;43m.\u001b[39;49m\u001b[43mpairwise\u001b[49m\u001b[43m(\u001b[49m\n\u001b[1;32m      2\u001b[0m \u001b[43m    \u001b[49m\u001b[43mdata\u001b[49m\u001b[38;5;241;43m=\u001b[39;49m\u001b[43madata\u001b[49m\u001b[43m,\u001b[49m\n\u001b[1;32m      3\u001b[0m \u001b[43m    \u001b[49m\u001b[43mgrouping\u001b[49m\u001b[38;5;241;43m=\u001b[39;49m\u001b[38;5;124;43m\"\u001b[39;49m\u001b[38;5;124;43mda_regions\u001b[39;49m\u001b[38;5;124;43m\"\u001b[39;49m\u001b[43m,\u001b[49m\n\u001b[1;32m      4\u001b[0m \u001b[43m    \u001b[49m\u001b[43mtest\u001b[49m\u001b[38;5;241;43m=\u001b[39;49m\u001b[38;5;124;43m\"\u001b[39;49m\u001b[38;5;124;43mz-test\u001b[39;49m\u001b[38;5;124;43m\"\u001b[39;49m\u001b[43m,\u001b[49m\n\u001b[1;32m      5\u001b[0m \u001b[43m    \u001b[49m\u001b[43mlazy\u001b[49m\u001b[38;5;241;43m=\u001b[39;49m\u001b[38;5;28;43;01mFalse\u001b[39;49;00m\u001b[43m,\u001b[49m\n\u001b[1;32m      6\u001b[0m \u001b[43m    \u001b[49m\u001b[43mnoise_model\u001b[49m\u001b[38;5;241;43m=\u001b[39;49m\u001b[38;5;124;43m\"\u001b[39;49m\u001b[38;5;124;43mnb\u001b[39;49m\u001b[38;5;124;43m\"\u001b[39;49m\n\u001b[1;32m      7\u001b[0m \u001b[43m)\u001b[49m\n",
      "File \u001b[0;32m~/.local/lib/python3.9/site-packages/diffxpy/testing/tests.py:1238\u001b[0m, in \u001b[0;36mpairwise\u001b[0;34m(data, grouping, as_numeric, test, lazy, gene_names, sample_description, noise_model, size_factors, batch_size, backend, train_args, training_strategy, is_sig_zerovar, quick_scale, dtype, pval_correction, keep_full_test_objs, **kwargs)\u001b[0m\n\u001b[1;32m   1232\u001b[0m \u001b[38;5;28;01mif\u001b[39;00m test\u001b[38;5;241m.\u001b[39mlower() \u001b[38;5;241m==\u001b[39m \u001b[38;5;124m'\u001b[39m\u001b[38;5;124mz-test\u001b[39m\u001b[38;5;124m'\u001b[39m \u001b[38;5;129;01mor\u001b[39;00m test\u001b[38;5;241m.\u001b[39mlower() \u001b[38;5;241m==\u001b[39m \u001b[38;5;124m'\u001b[39m\u001b[38;5;124mz_test\u001b[39m\u001b[38;5;124m'\u001b[39m \u001b[38;5;129;01mor\u001b[39;00m test\u001b[38;5;241m.\u001b[39mlower() \u001b[38;5;241m==\u001b[39m \u001b[38;5;124m'\u001b[39m\u001b[38;5;124mztest\u001b[39m\u001b[38;5;124m'\u001b[39m:\n\u001b[1;32m   1233\u001b[0m     \u001b[38;5;66;03m# -1 in formula removes intercept\u001b[39;00m\n\u001b[1;32m   1234\u001b[0m     dmat \u001b[38;5;241m=\u001b[39m glm\u001b[38;5;241m.\u001b[39mdata\u001b[38;5;241m.\u001b[39mdesign_matrix(\n\u001b[1;32m   1235\u001b[0m         sample_description,\n\u001b[1;32m   1236\u001b[0m         formula\u001b[38;5;241m=\u001b[39m\u001b[38;5;124m\"\u001b[39m\u001b[38;5;124m~ 1 - 1 + grouping\u001b[39m\u001b[38;5;124m\"\u001b[39m\n\u001b[1;32m   1237\u001b[0m     )\n\u001b[0;32m-> 1238\u001b[0m     model \u001b[38;5;241m=\u001b[39m \u001b[43m_fit\u001b[49m\u001b[43m(\u001b[49m\n\u001b[1;32m   1239\u001b[0m \u001b[43m        \u001b[49m\u001b[43mnoise_model\u001b[49m\u001b[38;5;241;43m=\u001b[39;49m\u001b[43mnoise_model\u001b[49m\u001b[43m,\u001b[49m\n\u001b[1;32m   1240\u001b[0m \u001b[43m        \u001b[49m\u001b[43mdata\u001b[49m\u001b[38;5;241;43m=\u001b[39;49m\u001b[43mdata\u001b[49m\u001b[43m,\u001b[49m\n\u001b[1;32m   1241\u001b[0m \u001b[43m        \u001b[49m\u001b[43mdesign_loc\u001b[49m\u001b[38;5;241;43m=\u001b[39;49m\u001b[43mdmat\u001b[49m\u001b[43m,\u001b[49m\n\u001b[1;32m   1242\u001b[0m \u001b[43m        \u001b[49m\u001b[43mdesign_scale\u001b[49m\u001b[38;5;241;43m=\u001b[39;49m\u001b[43mdmat\u001b[49m\u001b[43m,\u001b[49m\n\u001b[1;32m   1243\u001b[0m \u001b[43m        \u001b[49m\u001b[43mgene_names\u001b[49m\u001b[38;5;241;43m=\u001b[39;49m\u001b[43mgene_names\u001b[49m\u001b[43m,\u001b[49m\n\u001b[1;32m   1244\u001b[0m \u001b[43m        \u001b[49m\u001b[43msize_factors\u001b[49m\u001b[38;5;241;43m=\u001b[39;49m\u001b[43msize_factors\u001b[49m\u001b[43m,\u001b[49m\n\u001b[1;32m   1245\u001b[0m \u001b[43m        \u001b[49m\u001b[43minit_a\u001b[49m\u001b[38;5;241;43m=\u001b[39;49m\u001b[38;5;124;43m\"\u001b[39;49m\u001b[38;5;124;43mclosed_form\u001b[39;49m\u001b[38;5;124;43m\"\u001b[39;49m\u001b[43m,\u001b[49m\n\u001b[1;32m   1246\u001b[0m \u001b[43m        \u001b[49m\u001b[43minit_b\u001b[49m\u001b[38;5;241;43m=\u001b[39;49m\u001b[38;5;124;43m\"\u001b[39;49m\u001b[38;5;124;43mclosed_form\u001b[39;49m\u001b[38;5;124;43m\"\u001b[39;49m\u001b[43m,\u001b[49m\n\u001b[1;32m   1247\u001b[0m \u001b[43m        \u001b[49m\u001b[43mbatch_size\u001b[49m\u001b[38;5;241;43m=\u001b[39;49m\u001b[43mbatch_size\u001b[49m\u001b[43m,\u001b[49m\n\u001b[1;32m   1248\u001b[0m \u001b[43m        \u001b[49m\u001b[43mbackend\u001b[49m\u001b[38;5;241;43m=\u001b[39;49m\u001b[43mbackend\u001b[49m\u001b[43m,\u001b[49m\n\u001b[1;32m   1249\u001b[0m \u001b[43m        \u001b[49m\u001b[43mtrain_args\u001b[49m\u001b[38;5;241;43m=\u001b[39;49m\u001b[43mtrain_args\u001b[49m\u001b[43m,\u001b[49m\n\u001b[1;32m   1250\u001b[0m \u001b[43m        \u001b[49m\u001b[43mtraining_strategy\u001b[49m\u001b[38;5;241;43m=\u001b[39;49m\u001b[43mtraining_strategy\u001b[49m\u001b[43m,\u001b[49m\n\u001b[1;32m   1251\u001b[0m \u001b[43m        \u001b[49m\u001b[43mquick_scale\u001b[49m\u001b[38;5;241;43m=\u001b[39;49m\u001b[43mquick_scale\u001b[49m\u001b[43m,\u001b[49m\n\u001b[1;32m   1252\u001b[0m \u001b[43m        \u001b[49m\u001b[43mdtype\u001b[49m\u001b[38;5;241;43m=\u001b[39;49m\u001b[43mdtype\u001b[49m\u001b[43m,\u001b[49m\n\u001b[1;32m   1253\u001b[0m \u001b[43m        \u001b[49m\u001b[38;5;241;43m*\u001b[39;49m\u001b[38;5;241;43m*\u001b[39;49m\u001b[43mkwargs\u001b[49m\n\u001b[1;32m   1254\u001b[0m \u001b[43m    \u001b[49m\u001b[43m)\u001b[49m\n\u001b[1;32m   1256\u001b[0m     \u001b[38;5;28;01mif\u001b[39;00m lazy:\n\u001b[1;32m   1257\u001b[0m         de_test \u001b[38;5;241m=\u001b[39m DifferentialExpressionTestZTestLazy(\n\u001b[1;32m   1258\u001b[0m             model_estim\u001b[38;5;241m=\u001b[39mmodel,\n\u001b[1;32m   1259\u001b[0m             grouping\u001b[38;5;241m=\u001b[39mgrouping,\n\u001b[1;32m   1260\u001b[0m             groups\u001b[38;5;241m=\u001b[39mnp\u001b[38;5;241m.\u001b[39munique(grouping),\n\u001b[1;32m   1261\u001b[0m             correction_type\u001b[38;5;241m=\u001b[39mpval_correction\n\u001b[1;32m   1262\u001b[0m         )\n",
      "File \u001b[0;32m~/.local/lib/python3.9/site-packages/diffxpy/testing/tests.py:177\u001b[0m, in \u001b[0;36m_fit\u001b[0;34m(noise_model, data, design_loc, design_scale, design_loc_names, design_scale_names, constraints_loc, constraints_scale, init_model, init_a, init_b, gene_names, size_factors, batch_size, backend, training_strategy, quick_scale, train_args, close_session, dtype)\u001b[0m\n\u001b[1;32m    174\u001b[0m \u001b[38;5;28;01melse\u001b[39;00m:\n\u001b[1;32m    175\u001b[0m     \u001b[38;5;28;01mraise\u001b[39;00m \u001b[38;5;167;01mValueError\u001b[39;00m(\u001b[38;5;124m'\u001b[39m\u001b[38;5;124mbackend=\u001b[39m\u001b[38;5;124m\"\u001b[39m\u001b[38;5;132;01m%s\u001b[39;00m\u001b[38;5;124m\"\u001b[39m\u001b[38;5;124m not recognized.\u001b[39m\u001b[38;5;124m'\u001b[39m \u001b[38;5;241m%\u001b[39m backend)\n\u001b[0;32m--> 177\u001b[0m input_data \u001b[38;5;241m=\u001b[39m \u001b[43mInputDataGLM\u001b[49m\u001b[43m(\u001b[49m\n\u001b[1;32m    178\u001b[0m \u001b[43m    \u001b[49m\u001b[43mdata\u001b[49m\u001b[38;5;241;43m=\u001b[39;49m\u001b[43mdata\u001b[49m\u001b[43m,\u001b[49m\n\u001b[1;32m    179\u001b[0m \u001b[43m    \u001b[49m\u001b[43mdesign_loc\u001b[49m\u001b[38;5;241;43m=\u001b[39;49m\u001b[43mdesign_loc\u001b[49m\u001b[43m,\u001b[49m\n\u001b[1;32m    180\u001b[0m \u001b[43m    \u001b[49m\u001b[43mdesign_scale\u001b[49m\u001b[38;5;241;43m=\u001b[39;49m\u001b[43mdesign_scale\u001b[49m\u001b[43m,\u001b[49m\n\u001b[1;32m    181\u001b[0m \u001b[43m    \u001b[49m\u001b[43mdesign_loc_names\u001b[49m\u001b[38;5;241;43m=\u001b[39;49m\u001b[43mdesign_loc_names\u001b[49m\u001b[43m,\u001b[49m\n\u001b[1;32m    182\u001b[0m \u001b[43m    \u001b[49m\u001b[43mdesign_scale_names\u001b[49m\u001b[38;5;241;43m=\u001b[39;49m\u001b[43mdesign_scale_names\u001b[49m\u001b[43m,\u001b[49m\n\u001b[1;32m    183\u001b[0m \u001b[43m    \u001b[49m\u001b[43mconstraints_loc\u001b[49m\u001b[38;5;241;43m=\u001b[39;49m\u001b[43mconstraints_loc\u001b[49m\u001b[43m,\u001b[49m\n\u001b[1;32m    184\u001b[0m \u001b[43m    \u001b[49m\u001b[43mconstraints_scale\u001b[49m\u001b[38;5;241;43m=\u001b[39;49m\u001b[43mconstraints_scale\u001b[49m\u001b[43m,\u001b[49m\n\u001b[1;32m    185\u001b[0m \u001b[43m    \u001b[49m\u001b[43msize_factors\u001b[49m\u001b[38;5;241;43m=\u001b[39;49m\u001b[43msize_factors\u001b[49m\u001b[43m,\u001b[49m\n\u001b[1;32m    186\u001b[0m \u001b[43m    \u001b[49m\u001b[43mfeature_names\u001b[49m\u001b[38;5;241;43m=\u001b[39;49m\u001b[43mgene_names\u001b[49m\u001b[43m,\u001b[49m\n\u001b[1;32m    187\u001b[0m \u001b[43m    \u001b[49m\u001b[43mchunk_size_cells\u001b[49m\u001b[38;5;241;43m=\u001b[39;49m\u001b[43mchunk_size_cells\u001b[49m\u001b[43m,\u001b[49m\n\u001b[1;32m    188\u001b[0m \u001b[43m    \u001b[49m\u001b[43mchunk_size_genes\u001b[49m\u001b[38;5;241;43m=\u001b[39;49m\u001b[43mchunk_size_genes\u001b[49m\u001b[43m,\u001b[49m\n\u001b[1;32m    189\u001b[0m \u001b[43m    \u001b[49m\u001b[43mas_dask\u001b[49m\u001b[38;5;241;43m=\u001b[39;49m\u001b[43mbackend\u001b[49m\u001b[38;5;241;43m.\u001b[39;49m\u001b[43mlower\u001b[49m\u001b[43m(\u001b[49m\u001b[43m)\u001b[49m\u001b[43m \u001b[49m\u001b[38;5;129;43;01min\u001b[39;49;00m\u001b[43m \u001b[49m\u001b[43m[\u001b[49m\u001b[38;5;124;43m\"\u001b[39;49m\u001b[38;5;124;43mnumpy\u001b[39;49m\u001b[38;5;124;43m\"\u001b[39;49m\u001b[43m]\u001b[49m\u001b[43m,\u001b[49m\n\u001b[1;32m    190\u001b[0m \u001b[43m    \u001b[49m\u001b[43mcast_dtype\u001b[49m\u001b[38;5;241;43m=\u001b[39;49m\u001b[43mdtype\u001b[49m\n\u001b[1;32m    191\u001b[0m \u001b[43m\u001b[49m\u001b[43m)\u001b[49m\n\u001b[1;32m    193\u001b[0m \u001b[38;5;66;03m# Assemble variable key word arguments to constructor of Estimator.\u001b[39;00m\n\u001b[1;32m    194\u001b[0m constructor_args \u001b[38;5;241m=\u001b[39m {}\n",
      "File \u001b[0;32m~/.local/lib/python3.9/site-packages/batchglm/models/base_glm/input.py:94\u001b[0m, in \u001b[0;36mInputDataGLM.__init__\u001b[0;34m(self, data, design_loc, design_loc_names, design_scale, design_scale_names, constraints_loc, constraints_scale, size_factors, observation_names, feature_names, chunk_size_cells, chunk_size_genes, as_dask, cast_dtype)\u001b[0m\n\u001b[1;32m     43\u001b[0m \u001b[38;5;250m\u001b[39m\u001b[38;5;124;03m\"\"\"\u001b[39;00m\n\u001b[1;32m     44\u001b[0m \u001b[38;5;124;03mCreate a new InputData object.\u001b[39;00m\n\u001b[1;32m     45\u001b[0m \n\u001b[0;32m   (...)\u001b[0m\n\u001b[1;32m     81\u001b[0m \u001b[38;5;124;03m:return: InputData object\u001b[39;00m\n\u001b[1;32m     82\u001b[0m \u001b[38;5;124;03m\"\"\"\u001b[39;00m\n\u001b[1;32m     83\u001b[0m InputDataBase\u001b[38;5;241m.\u001b[39m\u001b[38;5;21m__init__\u001b[39m(\n\u001b[1;32m     84\u001b[0m     \u001b[38;5;28mself\u001b[39m\u001b[38;5;241m=\u001b[39m\u001b[38;5;28mself\u001b[39m,\n\u001b[1;32m     85\u001b[0m     data\u001b[38;5;241m=\u001b[39mdata,\n\u001b[0;32m   (...)\u001b[0m\n\u001b[1;32m     91\u001b[0m     as_dask\u001b[38;5;241m=\u001b[39mas_dask\n\u001b[1;32m     92\u001b[0m )\n\u001b[0;32m---> 94\u001b[0m design_loc, design_loc_names \u001b[38;5;241m=\u001b[39m \u001b[43mparse_design\u001b[49m\u001b[43m(\u001b[49m\n\u001b[1;32m     95\u001b[0m \u001b[43m    \u001b[49m\u001b[43mdesign_matrix\u001b[49m\u001b[38;5;241;43m=\u001b[39;49m\u001b[43mdesign_loc\u001b[49m\u001b[43m,\u001b[49m\n\u001b[1;32m     96\u001b[0m \u001b[43m    \u001b[49m\u001b[43mparam_names\u001b[49m\u001b[38;5;241;43m=\u001b[39;49m\u001b[43mdesign_loc_names\u001b[49m\n\u001b[1;32m     97\u001b[0m \u001b[43m\u001b[49m\u001b[43m)\u001b[49m\n\u001b[1;32m     98\u001b[0m design_scale, design_scale_names \u001b[38;5;241m=\u001b[39m parse_design(\n\u001b[1;32m     99\u001b[0m     design_matrix\u001b[38;5;241m=\u001b[39mdesign_scale,\n\u001b[1;32m    100\u001b[0m     param_names\u001b[38;5;241m=\u001b[39mdesign_scale_names\n\u001b[1;32m    101\u001b[0m )\n\u001b[1;32m    103\u001b[0m \u001b[38;5;28;01mif\u001b[39;00m as_dask:\n",
      "File \u001b[0;32m~/.local/lib/python3.9/site-packages/batchglm/models/base_glm/utils.py:41\u001b[0m, in \u001b[0;36mparse_design\u001b[0;34m(design_matrix, param_names)\u001b[0m\n\u001b[1;32m     39\u001b[0m     params \u001b[38;5;241m=\u001b[39m \u001b[38;5;28;01mNone\u001b[39;00m\n\u001b[1;32m     40\u001b[0m \u001b[38;5;28;01melse\u001b[39;00m:\n\u001b[0;32m---> 41\u001b[0m     \u001b[38;5;28;01mraise\u001b[39;00m \u001b[38;5;167;01mValueError\u001b[39;00m(\u001b[38;5;124m\"\u001b[39m\u001b[38;5;124mtype \u001b[39m\u001b[38;5;132;01m%s\u001b[39;00m\u001b[38;5;124m not recognized\u001b[39m\u001b[38;5;124m\"\u001b[39m \u001b[38;5;241m%\u001b[39m \u001b[38;5;28mtype\u001b[39m(design_matrix))\n\u001b[1;32m     43\u001b[0m \u001b[38;5;28;01mif\u001b[39;00m param_names \u001b[38;5;129;01mis\u001b[39;00m \u001b[38;5;129;01mnot\u001b[39;00m \u001b[38;5;28;01mNone\u001b[39;00m:\n\u001b[1;32m     44\u001b[0m     \u001b[38;5;28;01mif\u001b[39;00m params \u001b[38;5;129;01mis\u001b[39;00m \u001b[38;5;28;01mNone\u001b[39;00m:\n",
      "\u001b[0;31mValueError\u001b[0m: type <class 'tuple'> not recognized"
     ]
    }
   ],
   "source": [
    "test = de.test.pairwise(\n",
    "    data=adata,\n",
    "    grouping=\"da_regions\",\n",
    "    test=\"z-test\",\n",
    "    lazy=False,\n",
    "    noise_model=\"nb\"\n",
    ")"
   ]
  },
  {
   "cell_type": "code",
   "execution_count": null,
   "id": "e3d92541-bc0f-454a-9300-f9a8fd1825c4",
   "metadata": {},
   "outputs": [],
   "source": []
  },
  {
   "cell_type": "code",
   "execution_count": 15,
   "id": "214a480a-260d-44c2-bde5-9d2ac5f29bc4",
   "metadata": {},
   "outputs": [
    {
     "data": {
      "text/plain": [
       "0         0\n",
       "1         0\n",
       "2         0\n",
       "3         0\n",
       "4         0\n",
       "         ..\n",
       "171149    0\n",
       "171150    0\n",
       "171151    0\n",
       "171152    0\n",
       "171153    0\n",
       "Name: da_regions, Length: 171154, dtype: int64"
      ]
     },
     "execution_count": 15,
     "metadata": {},
     "output_type": "execute_result"
    }
   ],
   "source": [
    "labels[\"da_regions\"]"
   ]
  },
  {
   "cell_type": "code",
   "execution_count": 4,
   "id": "052b8c95-dfec-4737-9394-a1f36e21c977",
   "metadata": {},
   "outputs": [
    {
     "data": {
      "text/html": [
       "<div>\n",
       "<style scoped>\n",
       "    .dataframe tbody tr th:only-of-type {\n",
       "        vertical-align: middle;\n",
       "    }\n",
       "\n",
       "    .dataframe tbody tr th {\n",
       "        vertical-align: top;\n",
       "    }\n",
       "\n",
       "    .dataframe thead th {\n",
       "        text-align: right;\n",
       "    }\n",
       "</style>\n",
       "<table border=\"1\" class=\"dataframe\">\n",
       "  <thead>\n",
       "    <tr style=\"text-align: right;\">\n",
       "      <th></th>\n",
       "      <th>CD11b-PE</th>\n",
       "      <th>CD16-PE</th>\n",
       "      <th>CD2-FITC</th>\n",
       "      <th>CD26-PE</th>\n",
       "      <th>CD29-FITC</th>\n",
       "      <th>CD3-PE</th>\n",
       "      <th>CD36-FITC</th>\n",
       "      <th>CD38-PE</th>\n",
       "      <th>CD4-PE</th>\n",
       "      <th>CD45-PE</th>\n",
       "      <th>...</th>\n",
       "      <th>CD7-PE</th>\n",
       "      <th>CD8-PE</th>\n",
       "      <th>HLA-DQ-FITC</th>\n",
       "      <th>HLA-DR-PE</th>\n",
       "      <th>NeuN-AF488</th>\n",
       "      <th>PBS</th>\n",
       "      <th>label</th>\n",
       "      <th>da_regions</th>\n",
       "      <th>condition</th>\n",
       "      <th>sample</th>\n",
       "    </tr>\n",
       "  </thead>\n",
       "  <tbody>\n",
       "    <tr>\n",
       "      <th>0</th>\n",
       "      <td>0.000000</td>\n",
       "      <td>0.000000</td>\n",
       "      <td>0.015464</td>\n",
       "      <td>0.000000</td>\n",
       "      <td>0.000000</td>\n",
       "      <td>0.000000</td>\n",
       "      <td>0.000000</td>\n",
       "      <td>0.000000</td>\n",
       "      <td>0.000000</td>\n",
       "      <td>0.090206</td>\n",
       "      <td>...</td>\n",
       "      <td>0.000000</td>\n",
       "      <td>0.000000</td>\n",
       "      <td>0.492268</td>\n",
       "      <td>0.502577</td>\n",
       "      <td>0.0</td>\n",
       "      <td>0.023196</td>\n",
       "      <td>Healthy01 - 21315.pkl</td>\n",
       "      <td>0</td>\n",
       "      <td>Control</td>\n",
       "      <td>Healthy01</td>\n",
       "    </tr>\n",
       "    <tr>\n",
       "      <th>1</th>\n",
       "      <td>0.000000</td>\n",
       "      <td>0.000000</td>\n",
       "      <td>0.200737</td>\n",
       "      <td>0.871087</td>\n",
       "      <td>0.084715</td>\n",
       "      <td>0.489871</td>\n",
       "      <td>0.000000</td>\n",
       "      <td>0.000000</td>\n",
       "      <td>0.493554</td>\n",
       "      <td>0.322284</td>\n",
       "      <td>...</td>\n",
       "      <td>0.000000</td>\n",
       "      <td>0.000000</td>\n",
       "      <td>0.069982</td>\n",
       "      <td>0.001842</td>\n",
       "      <td>0.0</td>\n",
       "      <td>0.000000</td>\n",
       "      <td>Healthy01 - 21315.pkl</td>\n",
       "      <td>0</td>\n",
       "      <td>Control</td>\n",
       "      <td>Healthy01</td>\n",
       "    </tr>\n",
       "    <tr>\n",
       "      <th>2</th>\n",
       "      <td>0.000000</td>\n",
       "      <td>0.000000</td>\n",
       "      <td>0.192440</td>\n",
       "      <td>0.000000</td>\n",
       "      <td>0.113402</td>\n",
       "      <td>0.109966</td>\n",
       "      <td>0.000000</td>\n",
       "      <td>0.000000</td>\n",
       "      <td>0.000000</td>\n",
       "      <td>0.000000</td>\n",
       "      <td>...</td>\n",
       "      <td>0.030928</td>\n",
       "      <td>0.398625</td>\n",
       "      <td>0.065292</td>\n",
       "      <td>0.000000</td>\n",
       "      <td>0.0</td>\n",
       "      <td>0.000000</td>\n",
       "      <td>Healthy01 - 21315.pkl</td>\n",
       "      <td>0</td>\n",
       "      <td>Control</td>\n",
       "      <td>Healthy01</td>\n",
       "    </tr>\n",
       "    <tr>\n",
       "      <th>3</th>\n",
       "      <td>0.000000</td>\n",
       "      <td>0.000000</td>\n",
       "      <td>0.443750</td>\n",
       "      <td>0.068750</td>\n",
       "      <td>0.106250</td>\n",
       "      <td>0.731250</td>\n",
       "      <td>0.025000</td>\n",
       "      <td>0.000000</td>\n",
       "      <td>0.856250</td>\n",
       "      <td>0.281250</td>\n",
       "      <td>...</td>\n",
       "      <td>0.381250</td>\n",
       "      <td>0.000000</td>\n",
       "      <td>0.043750</td>\n",
       "      <td>0.000000</td>\n",
       "      <td>0.0</td>\n",
       "      <td>0.000000</td>\n",
       "      <td>Healthy01 - 21315.pkl</td>\n",
       "      <td>0</td>\n",
       "      <td>Control</td>\n",
       "      <td>Healthy01</td>\n",
       "    </tr>\n",
       "    <tr>\n",
       "      <th>4</th>\n",
       "      <td>0.000000</td>\n",
       "      <td>0.000000</td>\n",
       "      <td>0.136656</td>\n",
       "      <td>0.254019</td>\n",
       "      <td>0.000000</td>\n",
       "      <td>0.310289</td>\n",
       "      <td>0.000000</td>\n",
       "      <td>0.000000</td>\n",
       "      <td>0.297428</td>\n",
       "      <td>0.347267</td>\n",
       "      <td>...</td>\n",
       "      <td>0.213826</td>\n",
       "      <td>0.000000</td>\n",
       "      <td>0.360129</td>\n",
       "      <td>0.000000</td>\n",
       "      <td>0.0</td>\n",
       "      <td>0.000000</td>\n",
       "      <td>Healthy01 - 21315.pkl</td>\n",
       "      <td>0</td>\n",
       "      <td>Control</td>\n",
       "      <td>Healthy01</td>\n",
       "    </tr>\n",
       "    <tr>\n",
       "      <th>...</th>\n",
       "      <td>...</td>\n",
       "      <td>...</td>\n",
       "      <td>...</td>\n",
       "      <td>...</td>\n",
       "      <td>...</td>\n",
       "      <td>...</td>\n",
       "      <td>...</td>\n",
       "      <td>...</td>\n",
       "      <td>...</td>\n",
       "      <td>...</td>\n",
       "      <td>...</td>\n",
       "      <td>...</td>\n",
       "      <td>...</td>\n",
       "      <td>...</td>\n",
       "      <td>...</td>\n",
       "      <td>...</td>\n",
       "      <td>...</td>\n",
       "      <td>...</td>\n",
       "      <td>...</td>\n",
       "      <td>...</td>\n",
       "      <td>...</td>\n",
       "    </tr>\n",
       "    <tr>\n",
       "      <th>171149</th>\n",
       "      <td>0.000000</td>\n",
       "      <td>0.118421</td>\n",
       "      <td>0.019737</td>\n",
       "      <td>0.000000</td>\n",
       "      <td>0.118421</td>\n",
       "      <td>0.000000</td>\n",
       "      <td>0.138158</td>\n",
       "      <td>0.000000</td>\n",
       "      <td>0.000000</td>\n",
       "      <td>0.000000</td>\n",
       "      <td>...</td>\n",
       "      <td>0.000000</td>\n",
       "      <td>0.000000</td>\n",
       "      <td>0.072368</td>\n",
       "      <td>0.006579</td>\n",
       "      <td>0.0</td>\n",
       "      <td>0.000000</td>\n",
       "      <td>ALS03 - 21308.pkl</td>\n",
       "      <td>0</td>\n",
       "      <td>Case</td>\n",
       "      <td>ALS03</td>\n",
       "    </tr>\n",
       "    <tr>\n",
       "      <th>171150</th>\n",
       "      <td>0.000000</td>\n",
       "      <td>0.000000</td>\n",
       "      <td>0.056291</td>\n",
       "      <td>0.000000</td>\n",
       "      <td>0.000000</td>\n",
       "      <td>0.811258</td>\n",
       "      <td>0.000000</td>\n",
       "      <td>0.000000</td>\n",
       "      <td>0.685430</td>\n",
       "      <td>0.036424</td>\n",
       "      <td>...</td>\n",
       "      <td>0.278146</td>\n",
       "      <td>0.000000</td>\n",
       "      <td>0.119205</td>\n",
       "      <td>0.000000</td>\n",
       "      <td>0.0</td>\n",
       "      <td>0.000000</td>\n",
       "      <td>ALS03 - 21308.pkl</td>\n",
       "      <td>0</td>\n",
       "      <td>Case</td>\n",
       "      <td>ALS03</td>\n",
       "    </tr>\n",
       "    <tr>\n",
       "      <th>171151</th>\n",
       "      <td>0.305439</td>\n",
       "      <td>0.000000</td>\n",
       "      <td>0.108787</td>\n",
       "      <td>0.000000</td>\n",
       "      <td>0.000000</td>\n",
       "      <td>0.083682</td>\n",
       "      <td>0.000000</td>\n",
       "      <td>0.142259</td>\n",
       "      <td>0.000000</td>\n",
       "      <td>0.171548</td>\n",
       "      <td>...</td>\n",
       "      <td>0.439331</td>\n",
       "      <td>0.589958</td>\n",
       "      <td>0.263598</td>\n",
       "      <td>0.029289</td>\n",
       "      <td>0.0</td>\n",
       "      <td>0.000000</td>\n",
       "      <td>ALS03 - 21308.pkl</td>\n",
       "      <td>0</td>\n",
       "      <td>Case</td>\n",
       "      <td>ALS03</td>\n",
       "    </tr>\n",
       "    <tr>\n",
       "      <th>171152</th>\n",
       "      <td>0.000000</td>\n",
       "      <td>0.000000</td>\n",
       "      <td>0.019455</td>\n",
       "      <td>0.000000</td>\n",
       "      <td>0.000000</td>\n",
       "      <td>0.272374</td>\n",
       "      <td>0.000000</td>\n",
       "      <td>0.000000</td>\n",
       "      <td>0.000000</td>\n",
       "      <td>0.000000</td>\n",
       "      <td>...</td>\n",
       "      <td>0.000000</td>\n",
       "      <td>0.412451</td>\n",
       "      <td>0.031128</td>\n",
       "      <td>0.000000</td>\n",
       "      <td>0.0</td>\n",
       "      <td>0.000000</td>\n",
       "      <td>ALS03 - 21308.pkl</td>\n",
       "      <td>0</td>\n",
       "      <td>Case</td>\n",
       "      <td>ALS03</td>\n",
       "    </tr>\n",
       "    <tr>\n",
       "      <th>171153</th>\n",
       "      <td>0.000000</td>\n",
       "      <td>0.000000</td>\n",
       "      <td>1.000000</td>\n",
       "      <td>0.110000</td>\n",
       "      <td>0.000000</td>\n",
       "      <td>0.350000</td>\n",
       "      <td>0.000000</td>\n",
       "      <td>0.050000</td>\n",
       "      <td>0.790000</td>\n",
       "      <td>0.700000</td>\n",
       "      <td>...</td>\n",
       "      <td>0.180000</td>\n",
       "      <td>0.000000</td>\n",
       "      <td>0.130000</td>\n",
       "      <td>0.000000</td>\n",
       "      <td>0.0</td>\n",
       "      <td>0.000000</td>\n",
       "      <td>ALS03 - 21308.pkl</td>\n",
       "      <td>0</td>\n",
       "      <td>Case</td>\n",
       "      <td>ALS03</td>\n",
       "    </tr>\n",
       "  </tbody>\n",
       "</table>\n",
       "<p>171154 rows × 23 columns</p>\n",
       "</div>"
      ],
      "text/plain": [
       "        CD11b-PE   CD16-PE  CD2-FITC   CD26-PE  CD29-FITC    CD3-PE  \\\n",
       "0       0.000000  0.000000  0.015464  0.000000   0.000000  0.000000   \n",
       "1       0.000000  0.000000  0.200737  0.871087   0.084715  0.489871   \n",
       "2       0.000000  0.000000  0.192440  0.000000   0.113402  0.109966   \n",
       "3       0.000000  0.000000  0.443750  0.068750   0.106250  0.731250   \n",
       "4       0.000000  0.000000  0.136656  0.254019   0.000000  0.310289   \n",
       "...          ...       ...       ...       ...        ...       ...   \n",
       "171149  0.000000  0.118421  0.019737  0.000000   0.118421  0.000000   \n",
       "171150  0.000000  0.000000  0.056291  0.000000   0.000000  0.811258   \n",
       "171151  0.305439  0.000000  0.108787  0.000000   0.000000  0.083682   \n",
       "171152  0.000000  0.000000  0.019455  0.000000   0.000000  0.272374   \n",
       "171153  0.000000  0.000000  1.000000  0.110000   0.000000  0.350000   \n",
       "\n",
       "        CD36-FITC   CD38-PE    CD4-PE   CD45-PE  ...    CD7-PE    CD8-PE  \\\n",
       "0        0.000000  0.000000  0.000000  0.090206  ...  0.000000  0.000000   \n",
       "1        0.000000  0.000000  0.493554  0.322284  ...  0.000000  0.000000   \n",
       "2        0.000000  0.000000  0.000000  0.000000  ...  0.030928  0.398625   \n",
       "3        0.025000  0.000000  0.856250  0.281250  ...  0.381250  0.000000   \n",
       "4        0.000000  0.000000  0.297428  0.347267  ...  0.213826  0.000000   \n",
       "...           ...       ...       ...       ...  ...       ...       ...   \n",
       "171149   0.138158  0.000000  0.000000  0.000000  ...  0.000000  0.000000   \n",
       "171150   0.000000  0.000000  0.685430  0.036424  ...  0.278146  0.000000   \n",
       "171151   0.000000  0.142259  0.000000  0.171548  ...  0.439331  0.589958   \n",
       "171152   0.000000  0.000000  0.000000  0.000000  ...  0.000000  0.412451   \n",
       "171153   0.000000  0.050000  0.790000  0.700000  ...  0.180000  0.000000   \n",
       "\n",
       "        HLA-DQ-FITC  HLA-DR-PE  NeuN-AF488       PBS                  label  \\\n",
       "0          0.492268   0.502577         0.0  0.023196  Healthy01 - 21315.pkl   \n",
       "1          0.069982   0.001842         0.0  0.000000  Healthy01 - 21315.pkl   \n",
       "2          0.065292   0.000000         0.0  0.000000  Healthy01 - 21315.pkl   \n",
       "3          0.043750   0.000000         0.0  0.000000  Healthy01 - 21315.pkl   \n",
       "4          0.360129   0.000000         0.0  0.000000  Healthy01 - 21315.pkl   \n",
       "...             ...        ...         ...       ...                    ...   \n",
       "171149     0.072368   0.006579         0.0  0.000000      ALS03 - 21308.pkl   \n",
       "171150     0.119205   0.000000         0.0  0.000000      ALS03 - 21308.pkl   \n",
       "171151     0.263598   0.029289         0.0  0.000000      ALS03 - 21308.pkl   \n",
       "171152     0.031128   0.000000         0.0  0.000000      ALS03 - 21308.pkl   \n",
       "171153     0.130000   0.000000         0.0  0.000000      ALS03 - 21308.pkl   \n",
       "\n",
       "        da_regions  condition     sample  \n",
       "0                0    Control  Healthy01  \n",
       "1                0    Control  Healthy01  \n",
       "2                0    Control  Healthy01  \n",
       "3                0    Control  Healthy01  \n",
       "4                0    Control  Healthy01  \n",
       "...            ...        ...        ...  \n",
       "171149           0       Case      ALS03  \n",
       "171150           0       Case      ALS03  \n",
       "171151           0       Case      ALS03  \n",
       "171152           0       Case      ALS03  \n",
       "171153           0       Case      ALS03  \n",
       "\n",
       "[171154 rows x 23 columns]"
      ]
     },
     "execution_count": 4,
     "metadata": {},
     "output_type": "execute_result"
    }
   ],
   "source": [
    "labels"
   ]
  },
  {
   "cell_type": "code",
   "execution_count": 5,
   "id": "2e0e8a5c-cc8d-4f9f-b27d-22f6b262ae3f",
   "metadata": {},
   "outputs": [
    {
     "ename": "NameError",
     "evalue": "name 'crash' is not defined",
     "output_type": "error",
     "traceback": [
      "\u001b[0;31m---------------------------------------------------------------------------\u001b[0m",
      "\u001b[0;31mNameError\u001b[0m                                 Traceback (most recent call last)",
      "Cell \u001b[0;32mIn[5], line 1\u001b[0m\n\u001b[0;32m----> 1\u001b[0m \u001b[43mcrash\u001b[49m\n",
      "\u001b[0;31mNameError\u001b[0m: name 'crash' is not defined"
     ]
    }
   ],
   "source": [
    "crash"
   ]
  },
  {
   "cell_type": "code",
   "execution_count": null,
   "id": "405e8a5f-ae1f-42a2-b8be-c2f62a970230",
   "metadata": {},
   "outputs": [],
   "source": [
    "import seaborn as sns \n",
    "import matplotlib.pyplot as plt"
   ]
  },
  {
   "cell_type": "code",
   "execution_count": null,
   "id": "fba3a20c-b233-425b-b002-26f111d3dc28",
   "metadata": {},
   "outputs": [],
   "source": [
    "labels[\"da_regions\"]"
   ]
  },
  {
   "cell_type": "code",
   "execution_count": null,
   "id": "66945dfb-ba2b-42a8-8df3-25cff0a3abeb",
   "metadata": {
    "tags": []
   },
   "outputs": [],
   "source": [
    "#plt.clf()\n",
    "sns.displot(labels, x=\"da_regions\", hue=\"condition\", kind=\"hist\", multiple=\"stack\", bins=len(np.unique(labels[\"da_regions\"].values)))\n",
    "plt.yscale(\"log\")"
   ]
  },
  {
   "cell_type": "code",
   "execution_count": null,
   "id": "e4b0ce6f-fdcf-41c9-bc29-734f2c1dc4c3",
   "metadata": {},
   "outputs": [],
   "source": [
    "#plt.clf()\n",
    "sns.displot(labels, x=\"da_regions\", hue=\"label\", kind=\"hist\", multiple=\"stack\", bins=len(np.unique(labels[\"da_regions\"].values)))\n",
    "plt.yscale(\"log\")"
   ]
  },
  {
   "cell_type": "code",
   "execution_count": null,
   "id": "ff5d53a0-bb00-43f8-85b6-aecfbec8aff1",
   "metadata": {},
   "outputs": [],
   "source": [
    "#plt.clf()\n",
    "#labels = labels[labels[\"da_regions\"] != 0]\n",
    "sns.displot(labels[labels[\"condition\"] == \"Case\"] , x=\"da_regions\", hue=\"sample\", kind=\"hist\", multiple=\"stack\", bins=len(np.unique(labels[\"da_regions\"].values)))\n",
    "#plt.yscale(\"log\")\n",
    "plt.xticks(range(len(np.unique(labels[\"da_regions\"].values))))\n",
    "plt.show()"
   ]
  },
  {
   "cell_type": "code",
   "execution_count": null,
   "id": "a7a104c5-ce3d-47b9-b31d-5bcb6f67ba4f",
   "metadata": {},
   "outputs": [],
   "source": [
    "#plt.clf()\n",
    "#labels = labels[labels[\"da_regions\"] != 0]\n",
    "sns.displot(labels[labels[\"condition\"] == \"Control\"] , x=\"da_regions\", hue=\"sample\", kind=\"hist\", multiple=\"stack\", bins=len(np.unique(labels[\"da_regions\"].values)))\n",
    "#plt.yscale(\"log\")\n",
    "plt.xticks(range(len(np.unique(labels[\"da_regions\"].values))))\n",
    "plt.show()"
   ]
  },
  {
   "cell_type": "code",
   "execution_count": null,
   "id": "307120d7-a9b5-4848-bb14-7312726efb00",
   "metadata": {},
   "outputs": [],
   "source": [
    "plt.clf()\n",
    "sns.displot(labels, x=\"da_regions\", y='CD11b-PE', bins=12)"
   ]
  },
  {
   "cell_type": "code",
   "execution_count": null,
   "id": "ed9bddb1-1ca5-4eb0-9318-0369a5cecd0a",
   "metadata": {},
   "outputs": [],
   "source": [
    "#plt.clf()\n",
    "#labels = labels[labels[\"da_regions\"] != 0]\n",
    "sns.displot(labels[labels[\"da_regions\"] != 0] , x=\"da_regions\", hue=\"sample\", kind=\"hist\", multiple=\"stack\", bins=len(np.unique(labels[\"da_regions\"].values)))\n",
    "#plt.yscale(\"log\")\n",
    "plt.xticks(range(len(np.unique(labels[\"da_regions\"].values))))\n",
    "plt.show()"
   ]
  },
  {
   "cell_type": "code",
   "execution_count": null,
   "id": "baa32dec-baa2-4024-8e18-40e9a0ec7ad4",
   "metadata": {},
   "outputs": [],
   "source": [
    "regions = np.unique(labels[\"da_regions\"].values)\n",
    "\n",
    "genes = np.array(labels.columns[:-4])\n",
    "de = np.ndarray((len(regions), len(genes))) \n",
    "    \n",
    "for i, region in enumerate(regions):\n",
    "    pvals = {}\n",
    "\n",
    "    for gene in genes:\n",
    "        x_cells = labels[labels[\"da_regions\"] == region]\n",
    "        y_cells = labels[labels[\"da_regions\"] != region]\n",
    "        x = x_cells[gene].values        \n",
    "        y = y_cells[gene].values\n",
    "        pvals[gene] = scipy.stats.mannwhitneyu(x,y).pvalue\n",
    "    rejected = fdrcorrection(list(pvals.values()))\n",
    "    degs_for_region = genes[np.where(rejected[0])]\n",
    "    de[i] = rejected[0]"
   ]
  },
  {
   "cell_type": "code",
   "execution_count": null,
   "id": "f6a6de51-d91f-4130-b56a-d94eb3a43170",
   "metadata": {},
   "outputs": [],
   "source": [
    "pvals"
   ]
  },
  {
   "cell_type": "code",
   "execution_count": null,
   "id": "fbb0e691-6d7c-4fd8-8eb2-5c28f24694b6",
   "metadata": {},
   "outputs": [],
   "source": [
    "res = pd.DataFrame(de, columns=genes, index=regions, dtype=bool)"
   ]
  },
  {
   "cell_type": "code",
   "execution_count": null,
   "id": "455ff258-f463-47eb-a51a-1dd4fe79a259",
   "metadata": {},
   "outputs": [],
   "source": [
    "res"
   ]
  },
  {
   "cell_type": "code",
   "execution_count": null,
   "id": "b4222c39-62af-44d0-bf9d-1b0f81b2c26e",
   "metadata": {
    "tags": []
   },
   "outputs": [],
   "source": [
    "%pip install pydeseq2"
   ]
  },
  {
   "cell_type": "raw",
   "id": "9eb6b5cf-42fb-4eeb-8abb-f63e639db653",
   "metadata": {},
   "source": [
    "check if deseq2 is applicable\n",
    "diffexpy (scanpy).test. par\n"
   ]
  }
 ],
 "metadata": {
  "kernelspec": {
   "display_name": "Python 3 (ipykernel)",
   "language": "python",
   "name": "python3"
  },
  "language_info": {
   "codemirror_mode": {
    "name": "ipython",
    "version": 3
   },
   "file_extension": ".py",
   "mimetype": "text/x-python",
   "name": "python",
   "nbconvert_exporter": "python",
   "pygments_lexer": "ipython3",
   "version": "3.9.16"
  }
 },
 "nbformat": 4,
 "nbformat_minor": 5
}
