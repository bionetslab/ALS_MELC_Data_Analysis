{
 "cells": [
  {
   "cell_type": "markdown",
   "id": "4e612878-3205-4f1f-a1a8-3d628cd9acfa",
   "metadata": {},
   "source": [
    "## Step-wise Insights Pre-processing Pipeline\n",
    "#### Anna Möller anna.moeller@fau.de"
   ]
  },
  {
   "cell_type": "markdown",
   "id": "8b4230b7-c646-43a8-8588-3eec75243481",
   "metadata": {
    "tags": []
   },
   "source": [
    "_____\n",
    "### 1. Import libraries:"
   ]
  },
  {
   "cell_type": "code",
   "execution_count": 1,
   "id": "a17edfa3-efcd-4582-932d-eb39b22ccede",
   "metadata": {},
   "outputs": [
    {
     "name": "stderr",
     "output_type": "stream",
     "text": [
      "2023-09-05 10:31:27.413343: I tensorflow/core/util/port.cc:110] oneDNN custom operations are on. You may see slightly different numerical results due to floating-point round-off errors from different computation orders. To turn them off, set the environment variable `TF_ENABLE_ONEDNN_OPTS=0`.\n",
      "2023-09-05 10:31:27.414447: I tensorflow/tsl/cuda/cudart_stub.cc:28] Could not find cuda drivers on your machine, GPU will not be used.\n",
      "2023-09-05 10:31:27.438826: I tensorflow/tsl/cuda/cudart_stub.cc:28] Could not find cuda drivers on your machine, GPU will not be used.\n",
      "2023-09-05 10:31:27.439216: I tensorflow/core/platform/cpu_feature_guard.cc:182] This TensorFlow binary is optimized to use available CPU instructions in performance-critical operations.\n",
      "To enable the following instructions: AVX2 AVX512F AVX512_VNNI FMA, in other operations, rebuild TensorFlow with the appropriate compiler flags.\n",
      "2023-09-05 10:31:27.848372: W tensorflow/compiler/tf2tensorrt/utils/py_utils.cc:38] TF-TRT Warning: Could not find TensorRT\n"
     ]
    }
   ],
   "source": [
    "import matplotlib.pyplot as plt\n",
    "import json\n",
    "import os\n",
    "import cv2\n",
    "import time\n",
    "import numpy as np\n",
    "from csbdeep.utils import Path, normalize\n",
    "from segmentation import MELC_Segmentation"
   ]
  },
  {
   "cell_type": "markdown",
   "id": "0c79283b-30e5-40dd-80d9-d3972e060abd",
   "metadata": {},
   "source": [
    "%load_ext autoreload\n",
    "%autoreload 2"
   ]
  },
  {
   "cell_type": "markdown",
   "id": "a30385eb-be01-481c-a3eb-aaeeeb49e41e",
   "metadata": {
    "tags": []
   },
   "source": [
    "_____\n",
    "### 2. Specify data path and create segmentation object\n",
    "Specify one or more membrane markers:"
   ]
  },
  {
   "cell_type": "code",
   "execution_count": 2,
   "id": "6b443aa0-afff-4d2d-a778-1802a893b001",
   "metadata": {},
   "outputs": [],
   "source": [
    "data = \"ALS\"\n",
    "\n",
    "f = open('/data_slow/je30bery/spatial_proteomics/config.json')\n",
    "config = json.load(f)\n",
    "data_path = config[data]\n",
    "seg = MELC_Segmentation(data_path, membrane_markers=\"cd45\") \n",
    "# membrane_marker: str/None \n",
    "# radius: multiple of cell radius"
   ]
  },
  {
   "cell_type": "markdown",
   "id": "698212bd-0710-4038-a3cf-ddf260a4065b",
   "metadata": {},
   "source": [
    "____\n",
    "Have a look at possible field of views:"
   ]
  },
  {
   "cell_type": "code",
   "execution_count": 3,
   "id": "979f2383-4fbc-4244-abf9-a32a06c7fd3b",
   "metadata": {
    "tags": []
   },
   "outputs": [
    {
     "data": {
      "text/plain": [
       "['ALS01 - 21297',\n",
       " 'ALS01 - 21298',\n",
       " 'ALS01 - 21299',\n",
       " 'ALS01 - 21300',\n",
       " 'ALS02 - 21301',\n",
       " 'ALS02 - 21302',\n",
       " 'ALS02 - 21303',\n",
       " 'ALS02 - 21304',\n",
       " 'ALS03 - 21305',\n",
       " 'ALS03 - 21306',\n",
       " 'ALS03 - 21307',\n",
       " 'ALS03 - 21308',\n",
       " 'ALS04 - 21370',\n",
       " 'ALS04 - 21371',\n",
       " 'ALS04 - 21372',\n",
       " 'ALS04 - 21373',\n",
       " 'Healthy01 - 21315',\n",
       " 'Healthy01 - 21316',\n",
       " 'Healthy01 - 21317',\n",
       " 'Healthy01 - 21318',\n",
       " 'Healthy02 - 21319',\n",
       " 'Healthy02 - 21320',\n",
       " 'Healthy02 - 21321',\n",
       " 'Healthy02 - 21322',\n",
       " 'Healthy03 - 21323',\n",
       " 'Healthy03 - 21324',\n",
       " 'Healthy03 - 21325',\n",
       " 'Healthy03 - 21326',\n",
       " 'Healthy04 - 21335',\n",
       " 'Healthy04 - 21336',\n",
       " 'Healthy04 - 21337',\n",
       " 'Healthy04 - 21338',\n",
       " 'Healthy05 - 21331',\n",
       " 'Healthy05 - 21332',\n",
       " 'Healthy05 - 21333',\n",
       " 'Healthy05 - 21334']"
      ]
     },
     "execution_count": 3,
     "metadata": {},
     "output_type": "execute_result"
    }
   ],
   "source": [
    "seg.fields_of_view"
   ]
  },
  {
   "cell_type": "markdown",
   "id": "6a9c0224-d089-4e70-88f0-8d4f84bd0d27",
   "metadata": {},
   "source": [
    "___\n",
    "<span style=\"color:red\"> **For the actual segmentation (not the step-wise demo), use:** </span>"
   ]
  },
  {
   "cell_type": "code",
   "execution_count": 6,
   "id": "25f3ef9a-6417-4163-bd29-f71ad20f9b4b",
   "metadata": {},
   "outputs": [
    {
     "name": "stdout",
     "output_type": "stream",
     "text": [
      "Found model '2D_versatile_fluo' for 'StarDist2D'.\n",
      "Loading network weights from 'weights_best.h5'.\n"
     ]
    },
    {
     "name": "stderr",
     "output_type": "stream",
     "text": [
      "2023-09-05 10:31:55.712430: E tensorflow/compiler/xla/stream_executor/cuda/cuda_driver.cc:268] failed call to cuInit: CUDA_ERROR_NO_DEVICE: no CUDA-capable device is detected\n",
      "2023-09-05 10:31:55.712533: I tensorflow/compiler/xla/stream_executor/cuda/cuda_diagnostics.cc:168] retrieving CUDA diagnostic information for host: bionets-scott.aibe.uni-erlangen.de\n",
      "2023-09-05 10:31:55.712536: I tensorflow/compiler/xla/stream_executor/cuda/cuda_diagnostics.cc:175] hostname: bionets-scott.aibe.uni-erlangen.de\n",
      "2023-09-05 10:31:55.712597: I tensorflow/compiler/xla/stream_executor/cuda/cuda_diagnostics.cc:199] libcuda reported version is: 535.104.5\n",
      "2023-09-05 10:31:55.712609: I tensorflow/compiler/xla/stream_executor/cuda/cuda_diagnostics.cc:203] kernel reported version is: 535.86.10\n",
      "2023-09-05 10:31:55.712612: E tensorflow/compiler/xla/stream_executor/cuda/cuda_diagnostics.cc:312] kernel version 535.86.10 does not match DSO version 535.104.5 -- cannot find working devices in this configuration\n"
     ]
    },
    {
     "name": "stdout",
     "output_type": "stream",
     "text": [
      "Loading thresholds from 'thresholds.json'.\n",
      "Using default values: prob_thresh=0.479071, nms_thresh=0.3.\n",
      "1/1 [==============================] - 1s 772ms/step\n",
      "1/1 [==============================] - 1s 595ms/step\n"
     ]
    },
    {
     "name": "stderr",
     "output_type": "stream",
     "text": [
      "100%|████████████████████████████████████████████████████████████████████████████████████████| 3961/3961 [00:46<00:00, 85.73it/s]\n",
      "100%|███████████████████████████████████████████████████████████████████████████████████████| 1652/1652 [00:15<00:00, 104.29it/s]\n"
     ]
    },
    {
     "ename": "AttributeError",
     "evalue": "'MELC_Segmentation' object has no attribute '_membrane_marker'",
     "output_type": "error",
     "traceback": [
      "\u001b[0;31m---------------------------------------------------------------------------\u001b[0m",
      "\u001b[0;31mAttributeError\u001b[0m                            Traceback (most recent call last)",
      "Cell \u001b[0;32mIn[6], line 1\u001b[0m\n\u001b[0;32m----> 1\u001b[0m nuclei_labels, combined_membranes, nucleus_label_where, membrane_label_where \u001b[38;5;241m=\u001b[39m \u001b[43mseg\u001b[49m\u001b[38;5;241;43m.\u001b[39;49m\u001b[43mrun\u001b[49m\u001b[43m(\u001b[49m\u001b[43mfield_of_view\u001b[49m\u001b[38;5;241;43m=\u001b[39;49m\u001b[38;5;124;43m'\u001b[39;49m\u001b[38;5;124;43mALS02 - 21304\u001b[39;49m\u001b[38;5;124;43m'\u001b[39;49m\u001b[43m,\u001b[49m\u001b[43m \u001b[49m\u001b[43mradii_ratio\u001b[49m\u001b[38;5;241;43m=\u001b[39;49m\u001b[38;5;28;43;01mNone\u001b[39;49;00m\u001b[43m)\u001b[49m\n",
      "File \u001b[0;32m/data_slow/je30bery/spatial_proteomics/segmentation/segmentation.py:256\u001b[0m, in \u001b[0;36mMELC_Segmentation.run\u001b[0;34m(self, field_of_view, radii_ratio)\u001b[0m\n\u001b[1;32m    253\u001b[0m estimated_membranes \u001b[38;5;241m=\u001b[39m \u001b[38;5;28mself\u001b[39m\u001b[38;5;241m.\u001b[39mestimate_membranes_as_nuclei_NN_in_radius(nuclei_labels, nuclei_centers_without_membranes, radii_ratio, nucleus_radii_to_circle)\n\u001b[1;32m    254\u001b[0m \u001b[38;5;66;03m#print(\"estimation took\", time.time()-start)\u001b[39;00m\n\u001b[0;32m--> 256\u001b[0m \u001b[38;5;28;01mif\u001b[39;00m \u001b[38;5;28;43mself\u001b[39;49m\u001b[38;5;241;43m.\u001b[39;49m\u001b[43m_membrane_marker\u001b[49m \u001b[38;5;129;01mis\u001b[39;00m \u001b[38;5;129;01mnot\u001b[39;00m \u001b[38;5;28;01mNone\u001b[39;00m:\n\u001b[1;32m    257\u001b[0m     combined_membranes \u001b[38;5;241m=\u001b[39m reconstructed_membranes \u001b[38;5;241m+\u001b[39m estimated_membranes\n\u001b[1;32m    258\u001b[0m \u001b[38;5;28;01melse\u001b[39;00m:\n",
      "\u001b[0;31mAttributeError\u001b[0m: 'MELC_Segmentation' object has no attribute '_membrane_marker'"
     ]
    }
   ],
   "source": [
    "nuclei_labels, combined_membranes, nucleus_label_where, membrane_label_where = seg.run(field_of_view='ALS02 - 21304', radii_ratio=None)"
   ]
  },
  {
   "cell_type": "markdown",
   "id": "a33067d9-8e6b-4336-8694-ab38b8210c98",
   "metadata": {},
   "source": [
    "Specify the field of view and the radii ratio (only for tissue images!) to retrieve:    \n",
    "- the segmented nuclei as array (same shape as the image, unique value per label)\n",
    "- the segmented membranes as array (same shape as the image, unique value per label, same label as the corresponding nucleus)\n",
    "- a dictionary where the coordinates per label are stored for the nuclei\n",
    "- a dictionary where the coordinates per label are stored for the membranes\n"
   ]
  },
  {
   "cell_type": "markdown",
   "id": "53c40e21-0b63-4a77-a595-3155741bc498",
   "metadata": {},
   "source": [
    "____\n",
    "### 3. Step-wise process:\n",
    "1. Specify desired field of view:"
   ]
  },
  {
   "cell_type": "code",
   "execution_count": null,
   "id": "a81eda59-919d-4fbf-a6cc-a2fed58e9d98",
   "metadata": {},
   "outputs": [],
   "source": [
    "seg.field_of_view = 'ALS02 - 21304'"
   ]
  },
  {
   "cell_type": "markdown",
   "id": "9f0fb0e6-0dcd-4166-b6ba-8866140df0c2",
   "metadata": {},
   "source": [
    "___\n",
    "2. Have a look at original images:"
   ]
  },
  {
   "cell_type": "code",
   "execution_count": null,
   "id": "5b45f1a6-806c-47e4-bf25-8f70d808b039",
   "metadata": {},
   "outputs": [],
   "source": [
    "prop_iodide = seg.get_prop_iodide()\n",
    "cd45 = seg.get_membrane_marker()"
   ]
  },
  {
   "cell_type": "code",
   "execution_count": null,
   "id": "3a0ccb5a-ea62-48d0-85cf-dfe44c582084",
   "metadata": {},
   "outputs": [],
   "source": [
    "f, axs = plt.subplots(2, 2, figsize=(10, 10))\n",
    "axs[0, 0].axis('off')\n",
    "axs[0, 0].imshow(prop_iodide)\n",
    "axs[0, 0].set_title(\"Propidium Iodide - Bleach Image\")\n",
    "axs[0, 1].axis('off')\n",
    "axs[0, 1].imshow(cd45)\n",
    "axs[0, 1].set_title(\"CD45\")\n",
    "axs[1, 0].axis('off')\n",
    "axs[1, 0].imshow(prop_iodide[:250, :250])\n",
    "axs[1, 1].axis('off')\n",
    "axs[1, 1].imshow(cd45[:250, :250])\n",
    "plt.show()"
   ]
  },
  {
   "cell_type": "markdown",
   "id": "514141a6-aa6f-4c05-96cc-64f1fbc89445",
   "metadata": {},
   "source": [
    "____\n",
    "3. Segment nucleus and membrane signals and visualize results:"
   ]
  },
  {
   "cell_type": "code",
   "execution_count": null,
   "id": "fbfb1822-eae3-47eb-b956-3f29718bf5ec",
   "metadata": {},
   "outputs": [],
   "source": [
    "nuclei_labels, nuclei_centers = seg.segment(prop_iodide)\n",
    "membrane_labels, membrane_centers = seg.segment(cd45)"
   ]
  },
  {
   "cell_type": "code",
   "execution_count": null,
   "id": "c5cd0d77-3baf-4463-bbe0-4944ae5e175a",
   "metadata": {},
   "outputs": [],
   "source": [
    "f, axs = plt.subplots(2, 2, figsize=(10, 10))\n",
    "axs[0, 0].axis('off')\n",
    "axs[0,0].imshow(nuclei_labels)\n",
    "axs[0,0].set_title(\"Propidium Iodide Segmentation\")\n",
    "axs[0,1].axis('off')\n",
    "axs[0,1].imshow(membrane_labels)\n",
    "axs[0,1].set_title(\"CD45 Segmentation\")\n",
    "axs[1,0].axis('off')\n",
    "axs[1,0].imshow(nuclei_labels[:250, :250])\n",
    "axs[1,1].axis('off')\n",
    "axs[1,1].imshow(membrane_labels[:250, :250])\n",
    "plt.show()"
   ]
  },
  {
   "cell_type": "markdown",
   "id": "97d68a41-7676-4fc9-9362-7d41dd6be95f",
   "metadata": {},
   "source": [
    "____\n",
    "4. Reconstruct missing membranes and visualize result:"
   ]
  },
  {
   "cell_type": "code",
   "execution_count": null,
   "id": "1a8dc493-9e51-4cea-a319-96faa0d53033",
   "metadata": {
    "tags": []
   },
   "outputs": [],
   "source": [
    "reconstructed_membranes, nuclei_centers_without_membrane, radii_ratio, nucleus_radii_to_circle = seg.existing_membranes_as_nuclei_NN(membrane_labels, nuclei_labels, nuclei_centers)"
   ]
  },
  {
   "cell_type": "code",
   "execution_count": null,
   "id": "3eeb95a7-79b7-4ee8-8b3b-059cf76b68bd",
   "metadata": {},
   "outputs": [],
   "source": [
    "estimated_membranes = seg.estimate_membranes_as_nuclei_NN_in_radius(nuclei_labels, nuclei_centers_without_membrane, radii_ratio, nucleus_radii_to_circle)"
   ]
  },
  {
   "cell_type": "markdown",
   "id": "ffa0ec24-0d8d-432d-b379-f025a2a20862",
   "metadata": {},
   "source": [
    "___\n",
    "5. Combine all membranes and visualize result:"
   ]
  },
  {
   "cell_type": "code",
   "execution_count": null,
   "id": "f3a2666c-3e1b-475e-9ca5-07609d1726a2",
   "metadata": {},
   "outputs": [],
   "source": [
    "f, axs = plt.subplots(2, 2, figsize=(10, 10))\n",
    "axs[0,0].axis('off')\n",
    "axs[0,0].imshow(reconstructed_membranes)\n",
    "axs[0,0].set_title(\"Segmented Membranes from CD45 \\n that contain Nucleus Center\")\n",
    "axs[0,1].axis('off')\n",
    "axs[0,1].imshow(estimated_membranes)\n",
    "axs[0,1].set_title(\"Estimated Membranes around \\n Remaining Nuclei Centers\")\n",
    "axs[1,0].axis('off')\n",
    "axs[1,0].imshow(reconstructed_membranes[1000:1250, 1000:1250], cmap=\"inferno\")\n",
    "#plt.imsave(\"rec_zoom.png\", reconstructed_membranes1[1000:1250, 1000:1250], cmap=\"inferno\")\n",
    "axs[1,1].axis('off')\n",
    "axs[1,1].imshow(estimated_membranes[1000:1250, 1000:1250], cmap=\"inferno\")\n",
    "#plt.imsave(\"est_zoom.png\", estimated_membranes1[1000:1250, 1000:1250], cmap=\"inferno\")\n",
    "\n",
    "plt.show()"
   ]
  },
  {
   "cell_type": "code",
   "execution_count": null,
   "id": "b54ae546-f3ee-4947-b384-054c2a33a3a9",
   "metadata": {},
   "outputs": [],
   "source": [
    "combined_membranes = reconstructed_membranes + estimated_membranes\n",
    "f, axs = plt.subplots(2, 1, figsize=(10, 10))\n",
    "axs[0].axis('off')\n",
    "axs[0].imshow(combined_membranes)\n",
    "axs[0].set_title(\"Combined Membranes\")\n",
    "\n",
    "axs[1].imshow(combined_membranes[1000:1250, 1000:1250])\n",
    "#plt.imsave(\"comb_zoom.png\", combined_membranes[1000:1250, 1000:1250], cmap=\"inferno\")\n",
    "\n",
    "axs[1].axis('off')\n",
    "plt.show()"
   ]
  },
  {
   "cell_type": "code",
   "execution_count": null,
   "id": "7efc1ec2-fe4d-4ccc-a858-0a2d3c935478",
   "metadata": {},
   "outputs": [],
   "source": [
    "only_membranes = combined_membranes != nuclei_labels\n",
    "f, axs = plt.subplots(2, 1, figsize=(10, 10))\n",
    "axs[0].axis('off')\n",
    "axs[0].imshow(only_membranes)\n",
    "axs[0].set_title(\"Combined Membranes\")\n",
    "\n",
    "axs[1].imshow(only_membranes[:250, :250])\n",
    "axs[1].axis('off')\n",
    "plt.show()"
   ]
  },
  {
   "cell_type": "code",
   "execution_count": null,
   "id": "399c66fa-3692-4951-a062-386699c1f0e8",
   "metadata": {},
   "outputs": [],
   "source": []
  }
 ],
 "metadata": {
  "kernelspec": {
   "display_name": "Python 3 (ipykernel)",
   "language": "python",
   "name": "python3"
  },
  "language_info": {
   "codemirror_mode": {
    "name": "ipython",
    "version": 3
   },
   "file_extension": ".py",
   "mimetype": "text/x-python",
   "name": "python",
   "nbconvert_exporter": "python",
   "pygments_lexer": "ipython3",
   "version": "3.9.16"
  }
 },
 "nbformat": 4,
 "nbformat_minor": 5
}
