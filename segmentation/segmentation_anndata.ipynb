{
 "cells": [
  {
   "cell_type": "markdown",
   "id": "af912913-6087-4014-9d73-bd601fbf3a74",
   "metadata": {},
   "source": [
    "## Create AnnData Object for Analysis Pipeline\n",
    "#### Anna Möller anna.moeller@fau.de"
   ]
  },
  {
   "cell_type": "code",
   "execution_count": 1,
   "id": "0f692369-f9a0-4ecf-b131-12fbd3169a1a",
   "metadata": {},
   "outputs": [],
   "source": [
    "%load_ext autoreload\n",
    "%autoreload 2"
   ]
  },
  {
   "cell_type": "code",
   "execution_count": 2,
   "id": "27bc0454-7662-4431-8091-77499dd2ed75",
   "metadata": {
    "tags": []
   },
   "outputs": [
    {
     "name": "stderr",
     "output_type": "stream",
     "text": [
      "2023-07-26 13:45:46.908395: I tensorflow/core/util/port.cc:110] oneDNN custom operations are on. You may see slightly different numerical results due to floating-point round-off errors from different computation orders. To turn them off, set the environment variable `TF_ENABLE_ONEDNN_OPTS=0`.\n",
      "2023-07-26 13:45:46.909469: I tensorflow/tsl/cuda/cudart_stub.cc:28] Could not find cuda drivers on your machine, GPU will not be used.\n",
      "2023-07-26 13:45:46.933712: I tensorflow/tsl/cuda/cudart_stub.cc:28] Could not find cuda drivers on your machine, GPU will not be used.\n",
      "2023-07-26 13:45:46.934136: I tensorflow/core/platform/cpu_feature_guard.cc:182] This TensorFlow binary is optimized to use available CPU instructions in performance-critical operations.\n",
      "To enable the following instructions: AVX2 AVX512F AVX512_VNNI FMA, in other operations, rebuild TensorFlow with the appropriate compiler flags.\n",
      "2023-07-26 13:45:47.342488: W tensorflow/compiler/tf2tensorrt/utils/py_utils.cc:38] TF-TRT Warning: Could not find TensorRT\n"
     ]
    }
   ],
   "source": [
    "import matplotlib.pyplot as plt\n",
    "import json\n",
    "import os\n",
    "import cv2\n",
    "import time\n",
    "import numpy as np\n",
    "from csbdeep.utils import Path, normalize\n",
    "from segmentation import MELC_Segmentation\n",
    "import pandas as pd\n",
    "import anndata as ad\n",
    "import pickle\n",
    "import sys\n",
    "sys.path.append(\"/data_slow/je30bery/spatial_proteomics/marker_expression/\")\n",
    "from initial_analysis import ExpressionAnalyzer\n",
    "import anndata as ad"
   ]
  },
  {
   "cell_type": "code",
   "execution_count": 3,
   "id": "03504414-c4ca-4c41-bc55-740b57b40d87",
   "metadata": {},
   "outputs": [],
   "source": [
    "with open(\"/data_slow/je30bery/spatial_proteomics/segmentation/anndata_example.pkl\", \"rb\") as f:\n",
    "    example_ad = pickle.load(f)"
   ]
  },
  {
   "cell_type": "code",
   "execution_count": 6,
   "id": "0ffbd4d5-819b-466e-923b-1dcb9bb6f07c",
   "metadata": {},
   "outputs": [],
   "source": [
    "data = \"ALS\"\n",
    "\n",
    "f = open('/data_slow/je30bery/spatial_proteomics/config.json')\n",
    "config = json.load(f)\n",
    "data_path = \"/data_slow/je30bery/data/ALS\"  #config[data]\n",
    "seg = MELC_Segmentation(data_path, membrane_markers=\"cd45\") \n",
    "# membrane_marker: str/None \n",
    "# radius: multiple of cell radius"
   ]
  },
  {
   "cell_type": "code",
   "execution_count": 7,
   "id": "8d01fa22-a42f-44b0-9020-8eea285873b1",
   "metadata": {},
   "outputs": [
    {
     "name": "stderr",
     "output_type": "stream",
     "text": [
      "Segmenting: 100%|████████████████████████████████████████████████████████████████████████████| 36/36 [00:00<00:00, 125307.01it/s]\n",
      "Calculating expression: 100%|███████████████████████████████████████████████████████████████████| 36/36 [00:00<00:00, 458.06it/s]\n",
      "anndata.py (117): Transforming to str index.\n"
     ]
    },
    {
     "name": "stdout",
     "output_type": "stream",
     "text": [
      "ALS01 - 21297\n"
     ]
    },
    {
     "name": "stderr",
     "output_type": "stream",
     "text": [
      "Segmenting: 100%|████████████████████████████████████████████████████████████████████████████| 36/36 [00:00<00:00, 114390.11it/s]\n",
      "Calculating expression: 100%|███████████████████████████████████████████████████████████████████| 36/36 [00:00<00:00, 398.69it/s]\n",
      "anndata.py (117): Transforming to str index.\n"
     ]
    },
    {
     "name": "stdout",
     "output_type": "stream",
     "text": [
      "ALS01 - 21297\n"
     ]
    }
   ],
   "source": [
    "for segment in [\"nuclei\", \"cell\"]:\n",
    "    comorbidities = pd.read_csv(\"/data_slow/je30bery/data/ALS/ALS_comorbidities.txt\", delimiter=\";\")\n",
    "    comorbidities = comorbidities.set_index(\"pat_id\")\n",
    "\n",
    "    EA = ExpressionAnalyzer()\n",
    "    EA.run(segment=segment, profile=None)\n",
    "    expression_data = EA.expression_data.sort_index()\n",
    "\n",
    "    for fov in seg.fields_of_view:\n",
    "        if \"ipynb\" in fov:\n",
    "            continue\n",
    "\n",
    "        seg.field_of_view = fov\n",
    "        if os.path.exists(f\"/data_slow/je30bery/spatial_proteomics/segmentation_results/{fov}_nuclei.pickle\"):\n",
    "            with open(f\"/data_slow/je30bery/spatial_proteomics/segmentation_results/{fov}_nuclei.pickle\", \"rb\") as handle:\n",
    "                where_nuc = pickle.load(handle)\n",
    "            with open(f\"/data_slow/je30bery/spatial_proteomics/segmentation_results/{fov}_cell.pickle\", \"rb\") as handle:\n",
    "                where_cell = pickle.load(handle)\n",
    "            nuc = np.load(f\"/data_slow/je30bery/spatial_proteomics/segmentation_results/{fov}_nuclei.npy\")\n",
    "            cell = np.load(f\"/data_slow/je30bery/spatial_proteomics/segmentation_results/{fov}_cells.npy\")\n",
    "        else:\n",
    "            nuc, mem, where_nuc, where_mem = seg.run()\n",
    "\n",
    "        where_dict = where_nuc if segment == \"nuclei\" else where_cell   \n",
    "        where_dict = dict(sorted(where_dict.items()))\n",
    "        \n",
    "        markers = {\n",
    "            m.split(\"_\")[1]: os.path.join(seg.get_fov_dir(), m)\n",
    "            for m in sorted(os.listdir(seg.get_fov_dir()))\n",
    "            if m.endswith(\".tif\") and \"phase\" not in m\n",
    "        }\n",
    "            \n",
    "        adata = ad.AnnData(expression_data.loc[fov].iloc[:,:-2])\n",
    "        adata.obsm[\"cell_id\"] = expression_data.loc[fov].index.astype(int).to_numpy()\n",
    "        adata.obsm[\"segment_size\"] = np.array([len(where_dict[k][0]) for k in where_dict])\n",
    "        \n",
    "        adata.obsm[\"group\"] = expression_data.loc[fov][\"Group\"].astype(str).values\n",
    "        adata.obsm[\"patient_id\"] = expression_data.loc[fov][\"Sample\"].astype(str).values\n",
    "        \n",
    "        adata.uns[\"group\"] = np.unique(expression_data.loc[fov][\"Group\"].astype(str).values)[0]\n",
    "        adata.uns[\"patient_id\"] = np.unique(expression_data.loc[fov][\"Sample\"].astype(str).values)[0]\n",
    "        \n",
    "        sample = np.unique(expression_data.loc[fov][\"Sample\"])[0]\n",
    "        for c in comorbidities.columns:\n",
    "            if \"ALS\" in sample:\n",
    "                adata.obsm[str(c)] = np.array([str(comorbidities.loc[sample, c])]* expression_data.loc[fov].shape[0])\n",
    "                adata.uns[str(c)] = str(comorbidities.loc[sample, c])\n",
    "            else:\n",
    "                adata.obsm[str(c)] = np.array([\"unknown\"] * expression_data.loc[fov].shape[0])\n",
    "                adata.uns[str(c)] = \"unknown\"\n",
    "\n",
    "        adata.obsm[\"field_of_view\"] = np.array([fov] * expression_data.loc[fov].shape[0]) \n",
    "        adata.uns[\"field_of_view\"] = fov\n",
    "        \n",
    "    \n",
    "        if \"spatial\" not in adata.uns:\n",
    "            adata.uns[\"spatial\"] = {}  # Create the \"spatial\" key if it doesn't exist\n",
    "\n",
    "        if \"images\" not in adata.uns[\"spatial\"]:\n",
    "            adata.uns[\"spatial\"][\"images\"] = {}  # Create the \"images\" key if it doesn't exist\n",
    "        \n",
    "        adata.uns[\"spatial\"][\"images\"][\"Propidium iodide\"] = seg.get_prop_iodide()\n",
    "        for m in markers:\n",
    "            adata.uns[\"spatial\"][\"images\"][str(m)] = cv2.imread(markers[m], cv2.IMREAD_GRAYSCALE)\n",
    "    \n",
    "        adata.obsm[\"control_mean_expression\"] = np.array([EA.expression_data[EA.expression_data[\"Group\"] == \"Control\"].iloc[:, :-2].mean(axis=0).values] * expression_data.loc[fov].shape[0])\n",
    "        adata.obsm[\"control_std_expression\"] = np.array([EA.expression_data[EA.expression_data[\"Group\"] == \"Control\"].iloc[:, :-2].std(axis=0).values] * expression_data.loc[fov].shape[0])       \n",
    "        adata.uns[\"control_mean_expression\"] = EA.expression_data[EA.expression_data[\"Group\"] == \"Control\"].iloc[:, :-2].mean(axis=0).values\n",
    "        adata.uns[\"control_std_expression\"] = EA.expression_data[EA.expression_data[\"Group\"] == \"Control\"].iloc[:, :-2].std(axis=0).values\n",
    "\n",
    "\n",
    "    \n",
    "    \n",
    "        adata.uns[\"coordinates\"] = where_dict\n",
    "        adata.uns[\"spatial\"][\"segmentation\"] = nuc if segment == \"nuclei\" else cell\n",
    "        \n",
    "        print(fov)        \n",
    "        with open(f\"/data_slow/je30bery/spatial_proteomics/ann_data/{segment}_{fov}.pickle\", 'wb') as handle:\n",
    "            pickle.dump(adata, handle, protocol=pickle.HIGHEST_PROTOCOL)\n",
    "        break"
   ]
  }
 ],
 "metadata": {
  "kernelspec": {
   "display_name": "Python 3 (ipykernel)",
   "language": "python",
   "name": "python3"
  },
  "language_info": {
   "codemirror_mode": {
    "name": "ipython",
    "version": 3
   },
   "file_extension": ".py",
   "mimetype": "text/x-python",
   "name": "python",
   "nbconvert_exporter": "python",
   "pygments_lexer": "ipython3",
   "version": "3.9.16"
  }
 },
 "nbformat": 4,
 "nbformat_minor": 5
}
