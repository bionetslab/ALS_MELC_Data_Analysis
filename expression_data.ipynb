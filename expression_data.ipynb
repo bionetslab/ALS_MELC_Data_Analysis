{
 "cells": [
  {
   "cell_type": "code",
   "execution_count": 1,
   "id": "a17edfa3-efcd-4582-932d-eb39b22ccede",
   "metadata": {},
   "outputs": [
    {
     "name": "stderr",
     "output_type": "stream",
     "text": [
      "2023-06-07 15:24:42.629330: I tensorflow/core/util/port.cc:110] oneDNN custom operations are on. You may see slightly different numerical results due to floating-point round-off errors from different computation orders. To turn them off, set the environment variable `TF_ENABLE_ONEDNN_OPTS=0`.\n",
      "2023-06-07 15:24:42.630534: I tensorflow/tsl/cuda/cudart_stub.cc:28] Could not find cuda drivers on your machine, GPU will not be used.\n",
      "2023-06-07 15:24:42.655766: I tensorflow/tsl/cuda/cudart_stub.cc:28] Could not find cuda drivers on your machine, GPU will not be used.\n",
      "2023-06-07 15:24:42.656182: I tensorflow/core/platform/cpu_feature_guard.cc:182] This TensorFlow binary is optimized to use available CPU instructions in performance-critical operations.\n",
      "To enable the following instructions: AVX2 AVX512F AVX512_VNNI FMA, in other operations, rebuild TensorFlow with the appropriate compiler flags.\n",
      "2023-06-07 15:24:43.026429: W tensorflow/compiler/tf2tensorrt/utils/py_utils.cc:38] TF-TRT Warning: Could not find TensorRT\n"
     ]
    }
   ],
   "source": [
    "import matplotlib.pyplot as plt\n",
    "import json\n",
    "import os\n",
    "import cv2\n",
    "import time\n",
    "import numpy as np\n",
    "from csbdeep.utils import Path, normalize\n",
    "from segmentation import MELC_Segmentation\n",
    "import pickle\n",
    "import pandas as pd\n",
    "from sklearn.decomposition import PCA\n",
    "from sklearn.preprocessing import StandardScaler\n",
    "from sklearn.cluster import KMeans\n",
    "import seaborn as sns\n",
    "import umap\n"
   ]
  },
  {
   "cell_type": "code",
   "execution_count": 2,
   "id": "aea7f562-20b1-45b3-b85e-759a8d191e7b",
   "metadata": {},
   "outputs": [],
   "source": [
    "%load_ext autoreload\n",
    "%autoreload 2"
   ]
  },
  {
   "cell_type": "code",
   "execution_count": 3,
   "id": "6b443aa0-afff-4d2d-a778-1802a893b001",
   "metadata": {},
   "outputs": [
    {
     "name": "stdout",
     "output_type": "stream",
     "text": [
      "['ALS01 - 21297', 'ALS01 - 21298', 'ALS01 - 21299', 'ALS01 - 21300', 'ALS02 - 21301', 'ALS02 - 21302', 'ALS02 - 21303', 'ALS02 - 21304', 'ALS03 - 21305', 'ALS03 - 21306', 'ALS03 - 21307', 'ALS03 - 21308', 'Healthy01 - 21315', 'Healthy01 - 21316', 'Healthy01 - 21317', 'Healthy01 - 21318', 'Healthy02 - 21319', 'Healthy02 - 21320', 'Healthy02 - 21321', 'Healthy02 - 21322', 'Healthy03 - 21323', 'Healthy03 - 21324', 'Healthy03 - 21325', 'Healthy03 - 21326', 'Healthy04 - 21335', 'Healthy04 - 21336', 'Healthy04 - 21337', 'Healthy04 - 21338', 'Healthy05 - 21331', 'Healthy05 - 21332', 'Healthy05 - 21333', 'Healthy05 - 21334']\n"
     ]
    }
   ],
   "source": [
    "data = \"ALS\"\n",
    "\n",
    "f = open('/data_slow/je30bery/spatial_proteomics/config.json')\n",
    "config = json.load(f)\n",
    "data_path = config[data]\n",
    "seg = MELC_Segmentation(data_path, membrane_marker=\"cd45\") \n",
    "print(seg.fields_of_view)"
   ]
  },
  {
   "cell_type": "code",
   "execution_count": null,
   "id": "2484b134-98f6-4959-91ac-f553481aa71c",
   "metadata": {},
   "outputs": [],
   "source": [
    "# Save segmentation results\n",
    "if 0:\n",
    "    for i, fov in enumerate(seg.fields_of_view):\n",
    "        seg.field_of_view = fov\n",
    "        nuc, mem = seg.run(fov)\n",
    "        np.save(f\"./segmentation_results/{fov}_nuclei.npy\", nuc.astype(int))\n",
    "        np.save(f\"./segmentation_results/{fov}_membranes.npy\", mem.astype(int))\n",
    "\n",
    "        with open(f'./segmentation_results/{fov}_nuclei.pickle', 'wb') as handle:\n",
    "            pickle.dump(seg.nucleus_label_where[fov], handle, protocol=pickle.HIGHEST_PROTOCOL)\n",
    "        with open(f'./segmentation_results/{fov}_membrane.pickle', 'wb') as handle:\n",
    "            pickle.dump(seg.membrane_label_where[fov], handle, protocol=pickle.HIGHEST_PROTOCOL)"
   ]
  },
  {
   "cell_type": "code",
   "execution_count": 5,
   "id": "c21d49d3-863e-4cba-a8ac-85341d38e95d",
   "metadata": {},
   "outputs": [],
   "source": [
    "def get_expression(adaptive, where_dict):\n",
    "    expression = np.zeros_like(adaptive)\n",
    "    expression_dict = dict()\n",
    "    for n in where_dict:\n",
    "        if n == 0:\n",
    "            continue\n",
    "        \n",
    "        segment = where_dict[n]\n",
    "        exp = np.sum(adaptive[segment[0], segment[1]])/len(segment[0])\n",
    "        expression[segment[0], segment[1]] = exp\n",
    "        expression_dict[n] = exp / 255\n",
    "    return expression_dict #expression, "
   ]
  },
  {
   "cell_type": "code",
   "execution_count": null,
   "id": "7654a12e-2680-4560-88f4-07da8d10c6f5",
   "metadata": {
    "tags": []
   },
   "outputs": [],
   "source": [
    "# calculate expression within nuclei\n",
    "if 0:\n",
    "    for fov in seg.fields_of_view:\n",
    "        with open( f\"./segmentation_results/{fov}_nuclei.pickle\", 'rb') as handle:\n",
    "            where_dict_nuc = pickle.load(handle)\n",
    "\n",
    "        seg.field_of_view = fov\n",
    "        markers = {m.split(\"_\")[1]: os.path.join(seg.get_fov_dir(), m) for m in sorted(os.listdir(seg.get_fov_dir())) if m.endswith(\".tif\") and \"phase\" not in m}\n",
    "        del markers['Propidium iodide']\n",
    "        rows = list(where_dict_nuc.keys())\n",
    "        cols = list(markers.keys())\n",
    "        result_df = pd.DataFrame(index=rows, columns=markers)\n",
    "\n",
    "        for m in markers:\n",
    "            m_img = cv2.imread(markers[m], cv2.IMREAD_GRAYSCALE) \n",
    "            tile_std = np.std(m_img)\n",
    "            adaptive = cv2.adaptiveThreshold(m_img, 255, cv2.ADAPTIVE_THRESH_GAUSSIAN_C, cv2.THRESH_BINARY, 201, -tile_std)  \n",
    "            expression_dict = get_expression(adaptive, where_dict_nuc)\n",
    "            assert list(where_dict_nuc.keys()) == list(expression_dict.keys())\n",
    "            result_df[m] = list(expression_dict.values())\n",
    "        result_df.to_pickle(f\"./marker_expression_nuclei_results/{fov}.pkl\")  "
   ]
  },
  {
   "cell_type": "code",
   "execution_count": null,
   "id": "37763dc2-724d-4311-a0d6-a7dd78a0c0fe",
   "metadata": {},
   "outputs": [],
   "source": [
    "# calculate expression within entire cells\n",
    "if 0:\n",
    "    for fov in seg.fields_of_view:\n",
    "        with open( f\"./segmentation_results/{fov}_membrane.pickle\", 'rb') as handle:\n",
    "            where_dict_nuc = pickle.load(handle)\n",
    "\n",
    "        seg.field_of_view = fov\n",
    "        markers = {m.split(\"_\")[1]: os.path.join(seg.get_fov_dir(), m) for m in sorted(os.listdir(seg.get_fov_dir())) if m.endswith(\".tif\") and \"phase\" not in m}\n",
    "        del markers['Propidium iodide']\n",
    "\n",
    "        rows = list(where_dict_nuc.keys())\n",
    "        cols = list(markers.keys())\n",
    "        result_df = pd.DataFrame(index=rows, columns=markers)\n",
    "\n",
    "        for m in markers:\n",
    "            m_img = cv2.imread(markers[m], cv2.IMREAD_GRAYSCALE) \n",
    "            tile_std = np.std(m_img)\n",
    "            adaptive = cv2.adaptiveThreshold(m_img, 255, cv2.ADAPTIVE_THRESH_GAUSSIAN_C, cv2.THRESH_BINARY, 201, -tile_std)  \n",
    "            expression_dict = get_expression(adaptive, where_dict_nuc)\n",
    "            assert list(where_dict_nuc.keys()) == list(expression_dict.keys())\n",
    "            result_df[m] = list(expression_dict.values())\n",
    "\n",
    "        result_df.to_pickle(f\"./marker_expression_membrane_results/{fov}.pkl\")  "
   ]
  },
  {
   "cell_type": "code",
   "execution_count": null,
   "id": "433e2346-4d2d-4308-a688-237a7484fb47",
   "metadata": {},
   "outputs": [],
   "source": [
    "import seaborn as sns\n",
    "import pandas as pd\n",
    "\n",
    "pal = sns.color_palette(\"rocket\", 3) + sns.color_palette(\"mako\", 5)\n",
    "index = result1.keys()\n",
    "#vals0 = result0.values()\n",
    "vals1 = result1.values()\n",
    "#vals2 = result2.values()\n",
    "sns.set(rc={'figure.figsize':(5,4)})\n",
    "\n",
    "#df = pd.DataFrame(np.array([list(index), list(vals0), list(vals1), list(vals2)]).T, columns=[\"ID\", \"Condition cells 0\",\"Condition cells 1\", \"Condition cells 2\"])\n",
    "df = pd.DataFrame(np.array([list(index), list(vals1)]).T, columns=[\"ID\", \"Condition cells 1\"])\n",
    "\n",
    "df[\"Group\"] = np.where(df[\"ID\"].str.contains(\"ALS\"), \"ALS\", \"Control\")\n",
    "df[\"Patient\"] = df[\"ID\"].apply(lambda x: x.split(\" \")[0])\n",
    "\n",
    "#df[\"Condition cells 0\"] = df[\"Condition cells 0\"].astype(float) * 100\n",
    "df[\"Condition cells 1\"] = df[\"Condition cells 1\"].astype(float) * 100\n",
    "#df[\"Condition cells 2\"] = df[\"Condition cells 2\"].astype(float) * 100"
   ]
  },
  {
   "cell_type": "code",
   "execution_count": null,
   "id": "e3965b2a-664a-4a5e-882e-8b159b11f0bf",
   "metadata": {},
   "outputs": [],
   "source": [
    "plt.clf()\n",
    "sns.set_theme()\n",
    "#df = pd.read_csv(\"nuclei_results.csv\")\n",
    "\n",
    "sns.scatterplot(data=df, x=\"Group\", y=\"Condition cells 1\", hue=\"Patient\", palette=pal)\n",
    "plt.tight_layout()\n",
    "plt.legend(bbox_to_anchor=(1, 1))\n",
    "plt.ylabel(\"[%] Cells that show profile\") #TODO\n",
    "#plt.title(\"Profile CD11b:0, CD16:1, CD45-RA:1, HLA-DR:0, Expression within Cells (Nuclei and Cytoplasm)\") #TODO\n",
    "plt.title(\"Profile CD11b:0, CD16:1, HLA-DQ:0, Expression within Cells (Nuclei and Cytoplasm)\") #TODO\n",
    "\n",
    "#plt.title(\"Profile CD11b:0, CD16:1, CD45-RA:1, HLA-DR:0, Expression within Nuclei\") #TODO\n",
    "#plt.title(\"Profile CD11b:0, CD16:1, HLA-DQ:0, Expression within Nuclei\") #TODO\n",
    "plt.savefig(\"expr_mem_1.png\", bbox_inches='tight') #TODO"
   ]
  }
 ],
 "metadata": {
  "kernelspec": {
   "display_name": "melc_pipeline",
   "language": "python",
   "name": "melc_pipeline"
  },
  "language_info": {
   "codemirror_mode": {
    "name": "ipython",
    "version": 3
   },
   "file_extension": ".py",
   "mimetype": "text/x-python",
   "name": "python",
   "nbconvert_exporter": "python",
   "pygments_lexer": "ipython3",
   "version": "3.9.16"
  },
  "toc-autonumbering": true
 },
 "nbformat": 4,
 "nbformat_minor": 5
}
